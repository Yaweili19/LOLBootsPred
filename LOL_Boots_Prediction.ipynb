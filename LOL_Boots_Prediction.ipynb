{
 "cells": [
  {
   "cell_type": "markdown",
   "id": "92d2250f",
   "metadata": {},
   "source": [
    "# Predicting Boots as First Buy in League of Legends\n",
    "\n",
    "## Summary\n",
    "\n",
    "  Goal: Binary prediction of whether a player buys boots as their first purchase after starting items.\n",
    "  \n",
    "  Data: 112380 rows, 26 features. Gathered with Riot API timeline for matches of matchIDs from a Kaggle dataset.\n",
    "  \n",
    "  Methods: Decision Tree, Random Forest, Logistic Regression, SVM, XGBoost, Grid Search\n",
    "  \n",
    "  Results: 80.3% accuracy achieved. Gold, position, mastery are found to be strongest predictors. Attack Damage is surprisingly predictive.\n",
    "\n",
    "\n",
    "\n",
    "## Introduction\n",
    "League of Legends (LOL) is a 5 versus 5, player versus player game where we play as champions. To win, players must gather gold outside their base, then return base to buy items to improve their champion's power. Among the items, boots is a cheap yet critical item that improves a champion's movement speed. Although it is important, whether to buy boots the first time a player returns to base is highly situational. The goal of the project is to predict this situational choice and unveil the process.\n",
    "\n",
    "Our dataset starts from 12,000 IDs of League of Legends matches, found at https://www.kaggle.com/datasets/sabrinasummers/league-of-legends-diamond-matches-preseason-12. For each match, I gathered the detailed match data through League of Legends API (https://developer.riotgames.com/). The process isn't easy and my data-gathering code can be found in loldata.ipynb.\n",
    "\n",
    "Each row in our dataset represents a player in a match. The label is whether the player buys boots or not on his first return. The groups of features included are: \n",
    "- champion characteristics: How much does your champion need boots?\n",
    "- opponent characteristics: Is buying boots first a good choice against this particular champion?\n",
    "- early game performance: Before you buy boots, are you having a successful early game or falling behind?\n",
    "- player's role in the team: Some roles (UTILITY in particular) requires more moving and an early boots can be helpful.\n",
    "- player gold amount: Can you afford boots? Can you afford boots + another item?\n",
    "- game time: How long the game has started.\n",
    "- pre-game champion setup: Some decisions that affect champion statistics and playstyle. One setup gifts you a boots after several - minutes, but prevent you from buying it manually.\n",
    "\n",
    "In each game there's 10 players, so we're supposed to have 120,000 rows in total."
   ]
  },
  {
   "cell_type": "markdown",
   "id": "405b7e43",
   "metadata": {},
   "source": [
    "## Cleaning and Preprocessing\n",
    "### Raw Data Overview"
   ]
  },
  {
   "cell_type": "code",
   "execution_count": 1,
   "id": "5516bd89",
   "metadata": {},
   "outputs": [
    {
     "data": {
      "text/plain": [
       "(119046, 29)"
      ]
     },
     "execution_count": 1,
     "metadata": {},
     "output_type": "execute_result"
    }
   ],
   "source": [
    "import numpy as np\n",
    "import pandas as pd\n",
    "data = pd.read_csv('loldatafull.csv',index_col = 0)\n",
    "data.shape"
   ]
  },
  {
   "cell_type": "code",
   "execution_count": 2,
   "id": "4f964046",
   "metadata": {},
   "outputs": [
    {
     "data": {
      "text/plain": [
       "False    81283\n",
       "True     37763\n",
       "Name: label, dtype: int64"
      ]
     },
     "execution_count": 2,
     "metadata": {},
     "output_type": "execute_result"
    }
   ],
   "source": [
    "# Balance on Label\n",
    "data.label.value_counts()"
   ]
  },
  {
   "cell_type": "code",
   "execution_count": 3,
   "id": "d876c7e4",
   "metadata": {
    "scrolled": true
   },
   "outputs": [
    {
     "data": {
      "text/html": [
       "<div>\n",
       "<style scoped>\n",
       "    .dataframe tbody tr th:only-of-type {\n",
       "        vertical-align: middle;\n",
       "    }\n",
       "\n",
       "    .dataframe tbody tr th {\n",
       "        vertical-align: top;\n",
       "    }\n",
       "\n",
       "    .dataframe thead th {\n",
       "        text-align: right;\n",
       "    }\n",
       "</style>\n",
       "<table border=\"1\" class=\"dataframe\">\n",
       "  <thead>\n",
       "    <tr style=\"text-align: right;\">\n",
       "      <th></th>\n",
       "      <th>championName</th>\n",
       "      <th>firstBloodAssist</th>\n",
       "      <th>firstBloodKill</th>\n",
       "      <th>individualPosition</th>\n",
       "      <th>summoner1Id</th>\n",
       "      <th>summoner2Id</th>\n",
       "      <th>participantId</th>\n",
       "      <th>perks</th>\n",
       "      <th>enemyId</th>\n",
       "      <th>enemyName</th>\n",
       "      <th>...</th>\n",
       "      <th>xp</th>\n",
       "      <th>minionsKilled</th>\n",
       "      <th>jungleMinionsKilled</th>\n",
       "      <th>attackDamage</th>\n",
       "      <th>armor</th>\n",
       "      <th>magicResist</th>\n",
       "      <th>healthMax</th>\n",
       "      <th>healthRegen</th>\n",
       "      <th>powerMax</th>\n",
       "      <th>lifesteal</th>\n",
       "    </tr>\n",
       "    <tr>\n",
       "      <th>championId</th>\n",
       "      <th></th>\n",
       "      <th></th>\n",
       "      <th></th>\n",
       "      <th></th>\n",
       "      <th></th>\n",
       "      <th></th>\n",
       "      <th></th>\n",
       "      <th></th>\n",
       "      <th></th>\n",
       "      <th></th>\n",
       "      <th></th>\n",
       "      <th></th>\n",
       "      <th></th>\n",
       "      <th></th>\n",
       "      <th></th>\n",
       "      <th></th>\n",
       "      <th></th>\n",
       "      <th></th>\n",
       "      <th></th>\n",
       "      <th></th>\n",
       "      <th></th>\n",
       "    </tr>\n",
       "  </thead>\n",
       "  <tbody>\n",
       "    <tr>\n",
       "      <th>85</th>\n",
       "      <td>Kennen</td>\n",
       "      <td>True</td>\n",
       "      <td>False</td>\n",
       "      <td>TOP</td>\n",
       "      <td>12</td>\n",
       "      <td>4</td>\n",
       "      <td>1</td>\n",
       "      <td>{'statPerks': {'defense': 5003, 'flex': 5008, ...</td>\n",
       "      <td>17</td>\n",
       "      <td>Teemo</td>\n",
       "      <td>...</td>\n",
       "      <td>1572</td>\n",
       "      <td>24</td>\n",
       "      <td>0</td>\n",
       "      <td>56</td>\n",
       "      <td>37</td>\n",
       "      <td>39</td>\n",
       "      <td>951</td>\n",
       "      <td>13</td>\n",
       "      <td>200</td>\n",
       "      <td>0</td>\n",
       "    </tr>\n",
       "    <tr>\n",
       "      <th>245</th>\n",
       "      <td>Ekko</td>\n",
       "      <td>False</td>\n",
       "      <td>False</td>\n",
       "      <td>JUNGLE</td>\n",
       "      <td>4</td>\n",
       "      <td>11</td>\n",
       "      <td>2</td>\n",
       "      <td>{'statPerks': {'defense': 5002, 'flex': 5008, ...</td>\n",
       "      <td>120</td>\n",
       "      <td>Hecarim</td>\n",
       "      <td>...</td>\n",
       "      <td>320</td>\n",
       "      <td>0</td>\n",
       "      <td>4</td>\n",
       "      <td>60</td>\n",
       "      <td>40</td>\n",
       "      <td>32</td>\n",
       "      <td>646</td>\n",
       "      <td>19</td>\n",
       "      <td>330</td>\n",
       "      <td>0</td>\n",
       "    </tr>\n",
       "    <tr>\n",
       "      <th>157</th>\n",
       "      <td>Yasuo</td>\n",
       "      <td>False</td>\n",
       "      <td>False</td>\n",
       "      <td>MIDDLE</td>\n",
       "      <td>14</td>\n",
       "      <td>4</td>\n",
       "      <td>3</td>\n",
       "      <td>{'statPerks': {'defense': 5003, 'flex': 5008, ...</td>\n",
       "      <td>7</td>\n",
       "      <td>Leblanc</td>\n",
       "      <td>...</td>\n",
       "      <td>2655</td>\n",
       "      <td>46</td>\n",
       "      <td>0</td>\n",
       "      <td>77</td>\n",
       "      <td>43</td>\n",
       "      <td>44</td>\n",
       "      <td>913</td>\n",
       "      <td>32</td>\n",
       "      <td>145</td>\n",
       "      <td>0</td>\n",
       "    </tr>\n",
       "    <tr>\n",
       "      <th>119</th>\n",
       "      <td>Draven</td>\n",
       "      <td>False</td>\n",
       "      <td>True</td>\n",
       "      <td>BOTTOM</td>\n",
       "      <td>4</td>\n",
       "      <td>7</td>\n",
       "      <td>4</td>\n",
       "      <td>{'statPerks': {'defense': 5002, 'flex': 5008, ...</td>\n",
       "      <td>498</td>\n",
       "      <td>Xayah</td>\n",
       "      <td>...</td>\n",
       "      <td>536</td>\n",
       "      <td>13</td>\n",
       "      <td>0</td>\n",
       "      <td>85</td>\n",
       "      <td>37</td>\n",
       "      <td>30</td>\n",
       "      <td>749</td>\n",
       "      <td>8</td>\n",
       "      <td>413</td>\n",
       "      <td>0</td>\n",
       "    </tr>\n",
       "    <tr>\n",
       "      <th>12</th>\n",
       "      <td>Alistar</td>\n",
       "      <td>False</td>\n",
       "      <td>False</td>\n",
       "      <td>UTILITY</td>\n",
       "      <td>4</td>\n",
       "      <td>14</td>\n",
       "      <td>5</td>\n",
       "      <td>{'statPerks': {'defense': 5001, 'flex': 5002, ...</td>\n",
       "      <td>350</td>\n",
       "      <td>Yuumi</td>\n",
       "      <td>...</td>\n",
       "      <td>566</td>\n",
       "      <td>3</td>\n",
       "      <td>0</td>\n",
       "      <td>67</td>\n",
       "      <td>52</td>\n",
       "      <td>32</td>\n",
       "      <td>728</td>\n",
       "      <td>22</td>\n",
       "      <td>378</td>\n",
       "      <td>0</td>\n",
       "    </tr>\n",
       "  </tbody>\n",
       "</table>\n",
       "<p>5 rows × 29 columns</p>\n",
       "</div>"
      ],
      "text/plain": [
       "           championName  firstBloodAssist  firstBloodKill individualPosition  \\\n",
       "championId                                                                     \n",
       "85               Kennen              True           False                TOP   \n",
       "245                Ekko             False           False             JUNGLE   \n",
       "157               Yasuo             False           False             MIDDLE   \n",
       "119              Draven             False            True             BOTTOM   \n",
       "12              Alistar             False           False            UTILITY   \n",
       "\n",
       "            summoner1Id  summoner2Id  participantId  \\\n",
       "championId                                            \n",
       "85                   12            4              1   \n",
       "245                   4           11              2   \n",
       "157                  14            4              3   \n",
       "119                   4            7              4   \n",
       "12                    4           14              5   \n",
       "\n",
       "                                                        perks  enemyId  \\\n",
       "championId                                                               \n",
       "85          {'statPerks': {'defense': 5003, 'flex': 5008, ...       17   \n",
       "245         {'statPerks': {'defense': 5002, 'flex': 5008, ...      120   \n",
       "157         {'statPerks': {'defense': 5003, 'flex': 5008, ...        7   \n",
       "119         {'statPerks': {'defense': 5002, 'flex': 5008, ...      498   \n",
       "12          {'statPerks': {'defense': 5001, 'flex': 5002, ...      350   \n",
       "\n",
       "           enemyName  ...    xp  minionsKilled  jungleMinionsKilled  \\\n",
       "championId            ...                                             \n",
       "85             Teemo  ...  1572             24                    0   \n",
       "245          Hecarim  ...   320              0                    4   \n",
       "157          Leblanc  ...  2655             46                    0   \n",
       "119            Xayah  ...   536             13                    0   \n",
       "12             Yuumi  ...   566              3                    0   \n",
       "\n",
       "            attackDamage armor  magicResist  healthMax  healthRegen  powerMax  \\\n",
       "championId                                                                      \n",
       "85                    56    37           39        951           13       200   \n",
       "245                   60    40           32        646           19       330   \n",
       "157                   77    43           44        913           32       145   \n",
       "119                   85    37           30        749            8       413   \n",
       "12                    67    52           32        728           22       378   \n",
       "\n",
       "            lifesteal  \n",
       "championId             \n",
       "85                  0  \n",
       "245                 0  \n",
       "157                 0  \n",
       "119                 0  \n",
       "12                  0  \n",
       "\n",
       "[5 rows x 29 columns]"
      ]
     },
     "execution_count": 3,
     "metadata": {},
     "output_type": "execute_result"
    }
   ],
   "source": [
    "data.head()"
   ]
  },
  {
   "cell_type": "markdown",
   "id": "ae4e07ea",
   "metadata": {},
   "source": [
    "List of Features.\n",
    "\n",
    "Col 7 \"perks\" is entire mastery setup (Keystone, Primary, Secondary, Steriods).  \n",
    "\n",
    "Col 16 \"label\" is what we try to predict. \n",
    "\n",
    "Col 15 - 28 are live stats from the minute they made their first purchase."
   ]
  },
  {
   "cell_type": "code",
   "execution_count": 4,
   "id": "f7b5e9b0",
   "metadata": {},
   "outputs": [
    {
     "name": "stdout",
     "output_type": "stream",
     "text": [
      "<class 'pandas.core.frame.DataFrame'>\n",
      "Int64Index: 119046 entries, 85 to 43\n",
      "Data columns (total 29 columns):\n",
      " #   Column               Non-Null Count   Dtype \n",
      "---  ------               --------------   ----- \n",
      " 0   championName         119046 non-null  object\n",
      " 1   firstBloodAssist     119046 non-null  bool  \n",
      " 2   firstBloodKill       119046 non-null  bool  \n",
      " 3   individualPosition   119046 non-null  object\n",
      " 4   summoner1Id          119046 non-null  int64 \n",
      " 5   summoner2Id          119046 non-null  int64 \n",
      " 6   participantId        119046 non-null  int64 \n",
      " 7   perks                119046 non-null  object\n",
      " 8   enemyId              119046 non-null  int64 \n",
      " 9   enemyName            119046 non-null  object\n",
      " 10  cmovespeed           119046 non-null  int64 \n",
      " 11  cattackrange         119046 non-null  int64 \n",
      " 12  emovespeed           119046 non-null  int64 \n",
      " 13  eattackrange         119046 non-null  int64 \n",
      " 14  matchId              119046 non-null  object\n",
      " 15  minute               119046 non-null  int64 \n",
      " 16  label                119046 non-null  bool  \n",
      " 17  totalGold            119046 non-null  int64 \n",
      " 18  level                119046 non-null  int64 \n",
      " 19  xp                   119046 non-null  int64 \n",
      " 20  minionsKilled        119046 non-null  int64 \n",
      " 21  jungleMinionsKilled  119046 non-null  int64 \n",
      " 22  attackDamage         119046 non-null  int64 \n",
      " 23  armor                119046 non-null  int64 \n",
      " 24  magicResist          119046 non-null  int64 \n",
      " 25  healthMax            119046 non-null  int64 \n",
      " 26  healthRegen          119046 non-null  int64 \n",
      " 27  powerMax             119046 non-null  int64 \n",
      " 28  lifesteal            119046 non-null  int64 \n",
      "dtypes: bool(3), int64(21), object(5)\n",
      "memory usage: 24.9+ MB\n"
     ]
    }
   ],
   "source": [
    "data.info()"
   ]
  },
  {
   "cell_type": "markdown",
   "id": "84aa2b96",
   "metadata": {},
   "source": [
    "### 'Missing' Data Handling\n",
    "We're supposed to have 120,000 players from 12,000 matches, but only have 119046. My data gathering logs show that for some matches we got >10 or <10 players in them. Such matches are of questionable quality and player boots buying decisions there probably couldn't be explained well by our model. For example, if my teammates failed to connect (having less than 10 players in total), then I won't play seriously since I'm almost guaranteed to lose. If the API said there's more than 10 players in this match, there's definitely something wrong on the game or on the API, and data gathered there can't be trusted.\n",
    "\n",
    "Since we don't want such matches to disturb our model we're dropping rows where the match that the row is part of does not have exactly 10 players. Dropping them seems the only possible option, since we can't fill entire rows and the 'survived' rows are possibly polluted."
   ]
  },
  {
   "cell_type": "code",
   "execution_count": 5,
   "id": "eedf730c",
   "metadata": {},
   "outputs": [
    {
     "name": "stdout",
     "output_type": "stream",
     "text": [
      "(11238,)\n"
     ]
    },
    {
     "data": {
      "text/plain": [
       "(112380, 29)"
      ]
     },
     "execution_count": 5,
     "metadata": {},
     "output_type": "execute_result"
    }
   ],
   "source": [
    "goodmatch = data.matchId.value_counts().index[data.matchId.value_counts() == 10]\n",
    "print(goodmatch.shape)\n",
    "data = data[data.matchId.apply(lambda x: x in goodmatch)]\n",
    "data.shape"
   ]
  },
  {
   "cell_type": "code",
   "execution_count": 6,
   "id": "61f827b2",
   "metadata": {},
   "outputs": [
    {
     "data": {
      "text/plain": [
       "(112380, 26)"
      ]
     },
     "execution_count": 6,
     "metadata": {},
     "output_type": "execute_result"
    }
   ],
   "source": [
    "# Dropping features we don't use\n",
    "use = data.drop([ 'participantId','enemyId','matchId'],axis = 1)\n",
    "use.shape"
   ]
  },
  {
   "cell_type": "markdown",
   "id": "fb7833ea",
   "metadata": {},
   "source": [
    "### Balancing"
   ]
  },
  {
   "cell_type": "code",
   "execution_count": 7,
   "id": "8fa038c4",
   "metadata": {},
   "outputs": [
    {
     "name": "stdout",
     "output_type": "stream",
     "text": [
      "35557\n",
      "(35557, 26)\n"
     ]
    }
   ],
   "source": [
    "ntrue = use.label.value_counts()[1]\n",
    "print(ntrue)\n",
    "sampledfalse = use[use.label == False].sample(n = ntrue, random_state = 42)\n",
    "print(sampledfalse.shape)"
   ]
  },
  {
   "cell_type": "code",
   "execution_count": 8,
   "id": "50818f2d",
   "metadata": {},
   "outputs": [
    {
     "name": "stdout",
     "output_type": "stream",
     "text": [
      "(71114, 26)\n",
      "True     35557\n",
      "False    35557\n",
      "Name: label, dtype: int64\n"
     ]
    }
   ],
   "source": [
    "balanced = pd.concat([use[use.label == True],sampledfalse],axis = 0)\n",
    "print(balanced.shape)\n",
    "print(balanced.label.value_counts())"
   ]
  },
  {
   "cell_type": "markdown",
   "id": "403dabde",
   "metadata": {},
   "source": [
    "### Feature Representation\n",
    "We have some categorical feature that needs to be coded. I'm using one hot encoder here.\n",
    "\n",
    "'Perks', a pre-match setup, is a multi-level nested json-like string that took some cleaning to break down into 9 features (before ohe).\n",
    "\n",
    "'Summoner1Id' and 'Summoner2Id' are two summoner spells that a player chooses to bring, also a pre-game setup. Interesting part is the order of them doesn't matter. For example, say there are 3 summoner spells: Flash, Ignite, Ghost. ['Flash','Ignite'] should be represented the same way as ['Ignite','Flash']. You still have the same 2 spells under your sleeve. I implemented this characteristic in my representation."
   ]
  },
  {
   "cell_type": "code",
   "execution_count": 16,
   "id": "46f7ce83",
   "metadata": {},
   "outputs": [
    {
     "data": {
      "text/plain": [
       "\"{'statPerks': {'defense': 5003, 'flex': 5008, 'offense': 5008}, 'styles': [{'description': 'primaryStyle', 'selections': [{'perk': 8214, 'var1': 1666, 'var2': 0, 'var3': 0}, {'perk': 8275, 'var1': 7, 'var2': 0, 'var3': 0}, {'perk': 8210, 'var1': 12, 'var2': 0, 'var3': 0}, {'perk': 8237, 'var1': 629, 'var2': 0, 'var3': 0}], 'style': 8200}, {'description': 'subStyle', 'selections': [{'perk': 8139, 'var1': 1126, 'var2': 0, 'var3': 0}, {'perk': 8135, 'var1': 2190, 'var2': 5, 'var3': 0}], 'style': 8100}]}\""
      ]
     },
     "execution_count": 16,
     "metadata": {},
     "output_type": "execute_result"
    }
   ],
   "source": [
    "#What I'm working with\n",
    "balanced.perks.iloc[0]"
   ]
  },
  {
   "cell_type": "code",
   "execution_count": 17,
   "id": "3b0ab4e5",
   "metadata": {},
   "outputs": [],
   "source": [
    "import json\n",
    "def perk2dict(s):\n",
    "    '''\n",
    "    Replaces single quote with double quote to meet json requirements, then convert perk strings into\n",
    "    json-style dictionary.\n",
    "\n",
    "    perks: string of perks from lol API.\n",
    "    '''\n",
    "    s = s.replace(\"'\",'\"')\n",
    "    dict = json.loads(s)\n",
    "    return dict"
   ]
  },
  {
   "cell_type": "code",
   "execution_count": 18,
   "id": "8c809ce7",
   "metadata": {},
   "outputs": [],
   "source": [
    "balanced['perks'] = balanced.perks.apply(perk2dict)"
   ]
  },
  {
   "cell_type": "code",
   "execution_count": 19,
   "id": "6d31736d",
   "metadata": {},
   "outputs": [],
   "source": [
    "# 3 statperks\n",
    "stats3s = pd.json_normalize(balanced.perks)\n",
    "# Other perks nested deeper\n",
    "styles = pd.json_normalize(stats3s.styles)\n",
    "primary = pd.json_normalize(pd.json_normalize(styles[0]).selections).applymap(lambda x: x.get('perk'))\n",
    "sub = pd.json_normalize(pd.json_normalize(styles[1]).selections).applymap(lambda x: x.get('perk'))"
   ]
  },
  {
   "cell_type": "code",
   "execution_count": 22,
   "id": "6631ccb6",
   "metadata": {
    "scrolled": true
   },
   "outputs": [
    {
     "data": {
      "text/html": [
       "<div>\n",
       "<style scoped>\n",
       "    .dataframe tbody tr th:only-of-type {\n",
       "        vertical-align: middle;\n",
       "    }\n",
       "\n",
       "    .dataframe tbody tr th {\n",
       "        vertical-align: top;\n",
       "    }\n",
       "\n",
       "    .dataframe thead th {\n",
       "        text-align: right;\n",
       "    }\n",
       "</style>\n",
       "<table border=\"1\" class=\"dataframe\">\n",
       "  <thead>\n",
       "    <tr style=\"text-align: right;\">\n",
       "      <th></th>\n",
       "      <th>statPerks.defense</th>\n",
       "      <th>statPerks.flex</th>\n",
       "      <th>statPerks.offense</th>\n",
       "      <th>keystone</th>\n",
       "      <th>p1</th>\n",
       "      <th>p2</th>\n",
       "      <th>p3</th>\n",
       "      <th>s1</th>\n",
       "      <th>s2</th>\n",
       "    </tr>\n",
       "    <tr>\n",
       "      <th>championId</th>\n",
       "      <th></th>\n",
       "      <th></th>\n",
       "      <th></th>\n",
       "      <th></th>\n",
       "      <th></th>\n",
       "      <th></th>\n",
       "      <th></th>\n",
       "      <th></th>\n",
       "      <th></th>\n",
       "    </tr>\n",
       "  </thead>\n",
       "  <tbody>\n",
       "    <tr>\n",
       "      <th>85</th>\n",
       "      <td>5003</td>\n",
       "      <td>5008</td>\n",
       "      <td>5008</td>\n",
       "      <td>8214</td>\n",
       "      <td>8275</td>\n",
       "      <td>8210</td>\n",
       "      <td>8237</td>\n",
       "      <td>8139</td>\n",
       "      <td>8135</td>\n",
       "    </tr>\n",
       "    <tr>\n",
       "      <th>157</th>\n",
       "      <td>5003</td>\n",
       "      <td>5008</td>\n",
       "      <td>5005</td>\n",
       "      <td>8008</td>\n",
       "      <td>9111</td>\n",
       "      <td>9104</td>\n",
       "      <td>8014</td>\n",
       "      <td>8444</td>\n",
       "      <td>8242</td>\n",
       "    </tr>\n",
       "    <tr>\n",
       "      <th>17</th>\n",
       "      <td>5001</td>\n",
       "      <td>5008</td>\n",
       "      <td>5005</td>\n",
       "      <td>8214</td>\n",
       "      <td>8226</td>\n",
       "      <td>8233</td>\n",
       "      <td>8236</td>\n",
       "      <td>8139</td>\n",
       "      <td>8135</td>\n",
       "    </tr>\n",
       "    <tr>\n",
       "      <th>120</th>\n",
       "      <td>5001</td>\n",
       "      <td>5008</td>\n",
       "      <td>5005</td>\n",
       "      <td>8124</td>\n",
       "      <td>8143</td>\n",
       "      <td>8138</td>\n",
       "      <td>8134</td>\n",
       "      <td>8234</td>\n",
       "      <td>8232</td>\n",
       "    </tr>\n",
       "    <tr>\n",
       "      <th>60</th>\n",
       "      <td>5002</td>\n",
       "      <td>5008</td>\n",
       "      <td>5005</td>\n",
       "      <td>8005</td>\n",
       "      <td>9111</td>\n",
       "      <td>9104</td>\n",
       "      <td>8014</td>\n",
       "      <td>8126</td>\n",
       "      <td>8134</td>\n",
       "    </tr>\n",
       "  </tbody>\n",
       "</table>\n",
       "</div>"
      ],
      "text/plain": [
       "            statPerks.defense  statPerks.flex  statPerks.offense  keystone  \\\n",
       "championId                                                                   \n",
       "85                       5003            5008               5008      8214   \n",
       "157                      5003            5008               5005      8008   \n",
       "17                       5001            5008               5005      8214   \n",
       "120                      5001            5008               5005      8124   \n",
       "60                       5002            5008               5005      8005   \n",
       "\n",
       "              p1    p2    p3    s1    s2  \n",
       "championId                                \n",
       "85          8275  8210  8237  8139  8135  \n",
       "157         9111  9104  8014  8444  8242  \n",
       "17          8226  8233  8236  8139  8135  \n",
       "120         8143  8138  8134  8234  8232  \n",
       "60          9111  9104  8014  8126  8134  "
      ]
     },
     "execution_count": 22,
     "metadata": {},
     "output_type": "execute_result"
    }
   ],
   "source": [
    "# df of perks\n",
    "mastery = pd.concat([stats3s[stats3s.columns[1:4]],primary,sub],axis = 1)\n",
    "mastery.columns = mastery.columns[0:3].tolist() + ['keystone','p1','p2','p3','s1','s2']\n",
    "mastery.index = balanced.index #Lost index during json_normalize, adding it back\n",
    "mastery.head()"
   ]
  },
  {
   "cell_type": "code",
   "execution_count": 23,
   "id": "74172392",
   "metadata": {},
   "outputs": [
    {
     "data": {
      "text/html": [
       "<div>\n",
       "<style scoped>\n",
       "    .dataframe tbody tr th:only-of-type {\n",
       "        vertical-align: middle;\n",
       "    }\n",
       "\n",
       "    .dataframe tbody tr th {\n",
       "        vertical-align: top;\n",
       "    }\n",
       "\n",
       "    .dataframe thead th {\n",
       "        text-align: right;\n",
       "    }\n",
       "</style>\n",
       "<table border=\"1\" class=\"dataframe\">\n",
       "  <thead>\n",
       "    <tr style=\"text-align: right;\">\n",
       "      <th></th>\n",
       "      <th>statPerks.defense</th>\n",
       "      <th>statPerks.flex</th>\n",
       "      <th>statPerks.offense</th>\n",
       "      <th>keystone</th>\n",
       "      <th>p1</th>\n",
       "      <th>p2</th>\n",
       "      <th>p3</th>\n",
       "      <th>s1</th>\n",
       "      <th>s2</th>\n",
       "    </tr>\n",
       "    <tr>\n",
       "      <th>championId</th>\n",
       "      <th></th>\n",
       "      <th></th>\n",
       "      <th></th>\n",
       "      <th></th>\n",
       "      <th></th>\n",
       "      <th></th>\n",
       "      <th></th>\n",
       "      <th></th>\n",
       "      <th></th>\n",
       "    </tr>\n",
       "  </thead>\n",
       "  <tbody>\n",
       "    <tr>\n",
       "      <th>85</th>\n",
       "      <td>Magic Resist</td>\n",
       "      <td>Adaptive Force</td>\n",
       "      <td>Adaptive Force</td>\n",
       "      <td>SummonAery</td>\n",
       "      <td>NimbusCloak</td>\n",
       "      <td>Transcendence</td>\n",
       "      <td>Scorch</td>\n",
       "      <td>TasteOfBlood</td>\n",
       "      <td>RavenousHunter</td>\n",
       "    </tr>\n",
       "    <tr>\n",
       "      <th>157</th>\n",
       "      <td>Magic Resist</td>\n",
       "      <td>Adaptive Force</td>\n",
       "      <td>Attack Speed</td>\n",
       "      <td>LethalTempo</td>\n",
       "      <td>Triumph</td>\n",
       "      <td>LegendAlacrity</td>\n",
       "      <td>CoupDeGrace</td>\n",
       "      <td>SecondWind</td>\n",
       "      <td>Unflinching</td>\n",
       "    </tr>\n",
       "    <tr>\n",
       "      <th>17</th>\n",
       "      <td>Scaling Health</td>\n",
       "      <td>Adaptive Force</td>\n",
       "      <td>Attack Speed</td>\n",
       "      <td>SummonAery</td>\n",
       "      <td>ManaflowBand</td>\n",
       "      <td>AbsoluteFocus</td>\n",
       "      <td>GatheringStorm</td>\n",
       "      <td>TasteOfBlood</td>\n",
       "      <td>RavenousHunter</td>\n",
       "    </tr>\n",
       "    <tr>\n",
       "      <th>120</th>\n",
       "      <td>Scaling Health</td>\n",
       "      <td>Adaptive Force</td>\n",
       "      <td>Attack Speed</td>\n",
       "      <td>Predator</td>\n",
       "      <td>SuddenImpact</td>\n",
       "      <td>EyeballCollection</td>\n",
       "      <td>IngeniousHunter</td>\n",
       "      <td>Celerity</td>\n",
       "      <td>Waterwalking</td>\n",
       "    </tr>\n",
       "    <tr>\n",
       "      <th>60</th>\n",
       "      <td>Armor</td>\n",
       "      <td>Adaptive Force</td>\n",
       "      <td>Attack Speed</td>\n",
       "      <td>PressTheAttack</td>\n",
       "      <td>Triumph</td>\n",
       "      <td>LegendAlacrity</td>\n",
       "      <td>CoupDeGrace</td>\n",
       "      <td>CheapShot</td>\n",
       "      <td>IngeniousHunter</td>\n",
       "    </tr>\n",
       "  </tbody>\n",
       "</table>\n",
       "</div>"
      ],
      "text/plain": [
       "           statPerks.defense  statPerks.flex statPerks.offense  \\\n",
       "championId                                                       \n",
       "85              Magic Resist  Adaptive Force    Adaptive Force   \n",
       "157             Magic Resist  Adaptive Force     Attack Speed    \n",
       "17           Scaling Health   Adaptive Force     Attack Speed    \n",
       "120          Scaling Health   Adaptive Force     Attack Speed    \n",
       "60                     Armor  Adaptive Force     Attack Speed    \n",
       "\n",
       "                  keystone            p1                 p2               p3  \\\n",
       "championId                                                                     \n",
       "85              SummonAery   NimbusCloak      Transcendence           Scorch   \n",
       "157            LethalTempo       Triumph     LegendAlacrity      CoupDeGrace   \n",
       "17              SummonAery  ManaflowBand      AbsoluteFocus   GatheringStorm   \n",
       "120               Predator  SuddenImpact  EyeballCollection  IngeniousHunter   \n",
       "60          PressTheAttack       Triumph     LegendAlacrity      CoupDeGrace   \n",
       "\n",
       "                      s1               s2  \n",
       "championId                                 \n",
       "85          TasteOfBlood   RavenousHunter  \n",
       "157           SecondWind      Unflinching  \n",
       "17          TasteOfBlood   RavenousHunter  \n",
       "120             Celerity     Waterwalking  \n",
       "60             CheapShot  IngeniousHunter  "
      ]
     },
     "execution_count": 23,
     "metadata": {},
     "output_type": "execute_result"
    }
   ],
   "source": [
    "# Converting IDs to Names using dict for better interpretation\n",
    "ssd = pd.read_csv('ssd.csv',index_col=0,squeeze=True) #From Riot API\n",
    "ssd = ssd.to_dict()\n",
    "runesd = pd.read_csv('runesd.csv',index_col=0,squeeze=True) \n",
    "runesd = runesd.to_dict() # dict for perks\n",
    "mastery = mastery.replace(runesd)\n",
    "mastery.head()"
   ]
  },
  {
   "cell_type": "code",
   "execution_count": 24,
   "id": "5efadc6a",
   "metadata": {
    "scrolled": true
   },
   "outputs": [],
   "source": [
    "# perks ready for ohe, adding it to data\n",
    "balanced = pd.concat([balanced,mastery], axis = 1)\n",
    "balanced = balanced.drop('perks',axis = 1)\n"
   ]
  },
  {
   "cell_type": "code",
   "execution_count": 25,
   "id": "bdf4d1ad",
   "metadata": {},
   "outputs": [
    {
     "name": "stdout",
     "output_type": "stream",
     "text": [
      "['SummonerTeleport', 'SummonerDot', 'SummonerHaste', 'SummonerFlash', 'SummonerHeal', 'SummonerSmite', 'SummonerBoost', 'SummonerExhaust', 'SummonerBarrier']\n"
     ]
    }
   ],
   "source": [
    "#Preprocessing summoner spells\n",
    "\n",
    "balanced.summoner1Id = balanced.summoner1Id.replace(ssd)\n",
    "balanced.summoner2Id = balanced.summoner2Id.replace(ssd)\n",
    "summids = balanced.summoner1Id.unique().tolist()\n",
    "print(summids)"
   ]
  },
  {
   "cell_type": "code",
   "execution_count": 26,
   "id": "e8ce7fe5",
   "metadata": {},
   "outputs": [
    {
     "data": {
      "text/plain": [
       "array([['SummonerTeleport', 'SummonerFlash'],\n",
       "       ['SummonerDot', 'SummonerFlash'],\n",
       "       ['SummonerDot', 'SummonerFlash'],\n",
       "       ...,\n",
       "       ['SummonerFlash', 'SummonerDot'],\n",
       "       ['SummonerTeleport', 'SummonerFlash'],\n",
       "       ['SummonerFlash', 'SummonerHeal']], dtype=object)"
      ]
     },
     "execution_count": 26,
     "metadata": {},
     "output_type": "execute_result"
    }
   ],
   "source": [
    "# Combining two columns into 1\n",
    "combined = balanced[['summoner1Id','summoner2Id']].values\n",
    "combined"
   ]
  },
  {
   "cell_type": "code",
   "execution_count": 27,
   "id": "6e12b071",
   "metadata": {},
   "outputs": [],
   "source": [
    "# Creating a Boolean Series for each summoner spell\n",
    "for i in summids:\n",
    "    result = []\n",
    "    for c in combined:\n",
    "        result.append(i in c)\n",
    "    balanced[i] = result"
   ]
  },
  {
   "cell_type": "code",
   "execution_count": 28,
   "id": "61f5d7f6",
   "metadata": {
    "scrolled": true
   },
   "outputs": [
    {
     "data": {
      "text/html": [
       "<div>\n",
       "<style scoped>\n",
       "    .dataframe tbody tr th:only-of-type {\n",
       "        vertical-align: middle;\n",
       "    }\n",
       "\n",
       "    .dataframe tbody tr th {\n",
       "        vertical-align: top;\n",
       "    }\n",
       "\n",
       "    .dataframe thead th {\n",
       "        text-align: right;\n",
       "    }\n",
       "</style>\n",
       "<table border=\"1\" class=\"dataframe\">\n",
       "  <thead>\n",
       "    <tr style=\"text-align: right;\">\n",
       "      <th></th>\n",
       "      <th>championName</th>\n",
       "      <th>firstBloodAssist</th>\n",
       "      <th>firstBloodKill</th>\n",
       "      <th>individualPosition</th>\n",
       "      <th>enemyName</th>\n",
       "      <th>cmovespeed</th>\n",
       "      <th>cattackrange</th>\n",
       "      <th>emovespeed</th>\n",
       "      <th>eattackrange</th>\n",
       "      <th>minute</th>\n",
       "      <th>...</th>\n",
       "      <th>s2</th>\n",
       "      <th>SummonerTeleport</th>\n",
       "      <th>SummonerDot</th>\n",
       "      <th>SummonerHaste</th>\n",
       "      <th>SummonerFlash</th>\n",
       "      <th>SummonerHeal</th>\n",
       "      <th>SummonerSmite</th>\n",
       "      <th>SummonerBoost</th>\n",
       "      <th>SummonerExhaust</th>\n",
       "      <th>SummonerBarrier</th>\n",
       "    </tr>\n",
       "    <tr>\n",
       "      <th>championId</th>\n",
       "      <th></th>\n",
       "      <th></th>\n",
       "      <th></th>\n",
       "      <th></th>\n",
       "      <th></th>\n",
       "      <th></th>\n",
       "      <th></th>\n",
       "      <th></th>\n",
       "      <th></th>\n",
       "      <th></th>\n",
       "      <th></th>\n",
       "      <th></th>\n",
       "      <th></th>\n",
       "      <th></th>\n",
       "      <th></th>\n",
       "      <th></th>\n",
       "      <th></th>\n",
       "      <th></th>\n",
       "      <th></th>\n",
       "      <th></th>\n",
       "      <th></th>\n",
       "    </tr>\n",
       "  </thead>\n",
       "  <tbody>\n",
       "    <tr>\n",
       "      <th>85</th>\n",
       "      <td>Kennen</td>\n",
       "      <td>True</td>\n",
       "      <td>False</td>\n",
       "      <td>TOP</td>\n",
       "      <td>Teemo</td>\n",
       "      <td>335</td>\n",
       "      <td>550</td>\n",
       "      <td>330</td>\n",
       "      <td>500</td>\n",
       "      <td>4</td>\n",
       "      <td>...</td>\n",
       "      <td>RavenousHunter</td>\n",
       "      <td>True</td>\n",
       "      <td>False</td>\n",
       "      <td>False</td>\n",
       "      <td>True</td>\n",
       "      <td>False</td>\n",
       "      <td>False</td>\n",
       "      <td>False</td>\n",
       "      <td>False</td>\n",
       "      <td>False</td>\n",
       "    </tr>\n",
       "    <tr>\n",
       "      <th>157</th>\n",
       "      <td>Yasuo</td>\n",
       "      <td>False</td>\n",
       "      <td>False</td>\n",
       "      <td>MIDDLE</td>\n",
       "      <td>Leblanc</td>\n",
       "      <td>345</td>\n",
       "      <td>175</td>\n",
       "      <td>340</td>\n",
       "      <td>525</td>\n",
       "      <td>5</td>\n",
       "      <td>...</td>\n",
       "      <td>Unflinching</td>\n",
       "      <td>False</td>\n",
       "      <td>True</td>\n",
       "      <td>False</td>\n",
       "      <td>True</td>\n",
       "      <td>False</td>\n",
       "      <td>False</td>\n",
       "      <td>False</td>\n",
       "      <td>False</td>\n",
       "      <td>False</td>\n",
       "    </tr>\n",
       "    <tr>\n",
       "      <th>17</th>\n",
       "      <td>Teemo</td>\n",
       "      <td>False</td>\n",
       "      <td>False</td>\n",
       "      <td>TOP</td>\n",
       "      <td>Kennen</td>\n",
       "      <td>330</td>\n",
       "      <td>500</td>\n",
       "      <td>335</td>\n",
       "      <td>550</td>\n",
       "      <td>3</td>\n",
       "      <td>...</td>\n",
       "      <td>RavenousHunter</td>\n",
       "      <td>False</td>\n",
       "      <td>True</td>\n",
       "      <td>False</td>\n",
       "      <td>True</td>\n",
       "      <td>False</td>\n",
       "      <td>False</td>\n",
       "      <td>False</td>\n",
       "      <td>False</td>\n",
       "      <td>False</td>\n",
       "    </tr>\n",
       "    <tr>\n",
       "      <th>120</th>\n",
       "      <td>Hecarim</td>\n",
       "      <td>False</td>\n",
       "      <td>False</td>\n",
       "      <td>JUNGLE</td>\n",
       "      <td>Ekko</td>\n",
       "      <td>345</td>\n",
       "      <td>175</td>\n",
       "      <td>340</td>\n",
       "      <td>125</td>\n",
       "      <td>3</td>\n",
       "      <td>...</td>\n",
       "      <td>Waterwalking</td>\n",
       "      <td>False</td>\n",
       "      <td>False</td>\n",
       "      <td>True</td>\n",
       "      <td>False</td>\n",
       "      <td>False</td>\n",
       "      <td>True</td>\n",
       "      <td>False</td>\n",
       "      <td>False</td>\n",
       "      <td>False</td>\n",
       "    </tr>\n",
       "    <tr>\n",
       "      <th>60</th>\n",
       "      <td>Elise</td>\n",
       "      <td>False</td>\n",
       "      <td>True</td>\n",
       "      <td>JUNGLE</td>\n",
       "      <td>Shaco</td>\n",
       "      <td>330</td>\n",
       "      <td>550</td>\n",
       "      <td>345</td>\n",
       "      <td>125</td>\n",
       "      <td>2</td>\n",
       "      <td>...</td>\n",
       "      <td>IngeniousHunter</td>\n",
       "      <td>False</td>\n",
       "      <td>False</td>\n",
       "      <td>False</td>\n",
       "      <td>True</td>\n",
       "      <td>False</td>\n",
       "      <td>True</td>\n",
       "      <td>False</td>\n",
       "      <td>False</td>\n",
       "      <td>False</td>\n",
       "    </tr>\n",
       "  </tbody>\n",
       "</table>\n",
       "<p>5 rows × 41 columns</p>\n",
       "</div>"
      ],
      "text/plain": [
       "           championName  firstBloodAssist  firstBloodKill individualPosition  \\\n",
       "championId                                                                     \n",
       "85               Kennen              True           False                TOP   \n",
       "157               Yasuo             False           False             MIDDLE   \n",
       "17                Teemo             False           False                TOP   \n",
       "120             Hecarim             False           False             JUNGLE   \n",
       "60                Elise             False            True             JUNGLE   \n",
       "\n",
       "           enemyName  cmovespeed  cattackrange  emovespeed  eattackrange  \\\n",
       "championId                                                                 \n",
       "85             Teemo         335           550         330           500   \n",
       "157          Leblanc         345           175         340           525   \n",
       "17            Kennen         330           500         335           550   \n",
       "120             Ekko         345           175         340           125   \n",
       "60             Shaco         330           550         345           125   \n",
       "\n",
       "            minute  ...               s2  SummonerTeleport  SummonerDot  \\\n",
       "championId          ...                                                   \n",
       "85               4  ...   RavenousHunter              True        False   \n",
       "157              5  ...      Unflinching             False         True   \n",
       "17               3  ...   RavenousHunter             False         True   \n",
       "120              3  ...     Waterwalking             False        False   \n",
       "60               2  ...  IngeniousHunter             False        False   \n",
       "\n",
       "            SummonerHaste  SummonerFlash  SummonerHeal  SummonerSmite  \\\n",
       "championId                                                              \n",
       "85                  False           True         False          False   \n",
       "157                 False           True         False          False   \n",
       "17                  False           True         False          False   \n",
       "120                  True          False         False           True   \n",
       "60                  False           True         False           True   \n",
       "\n",
       "            SummonerBoost  SummonerExhaust  SummonerBarrier  \n",
       "championId                                                   \n",
       "85                  False            False            False  \n",
       "157                 False            False            False  \n",
       "17                  False            False            False  \n",
       "120                 False            False            False  \n",
       "60                  False            False            False  \n",
       "\n",
       "[5 rows x 41 columns]"
      ]
     },
     "execution_count": 28,
     "metadata": {},
     "output_type": "execute_result"
    }
   ],
   "source": [
    "#Check rightmost columns for newly added summoner spell data. Already ohe-ed.\n",
    "balanced = balanced.drop(['summoner1Id','summoner2Id'],axis = 1)\n",
    "balanced.head()"
   ]
  },
  {
   "cell_type": "code",
   "execution_count": 30,
   "id": "b0a2f17c",
   "metadata": {},
   "outputs": [
    {
     "name": "stdout",
     "output_type": "stream",
     "text": [
      "<class 'pandas.core.frame.DataFrame'>\n",
      "Int64Index: 71114 entries, 85 to 202\n",
      "Data columns (total 40 columns):\n",
      " #   Column               Non-Null Count  Dtype \n",
      "---  ------               --------------  ----- \n",
      " 0   championName         71114 non-null  object\n",
      " 1   firstBloodAssist     71114 non-null  bool  \n",
      " 2   firstBloodKill       71114 non-null  bool  \n",
      " 3   individualPosition   71114 non-null  object\n",
      " 4   enemyName            71114 non-null  object\n",
      " 5   cmovespeed           71114 non-null  int64 \n",
      " 6   cattackrange         71114 non-null  int64 \n",
      " 7   emovespeed           71114 non-null  int64 \n",
      " 8   eattackrange         71114 non-null  int64 \n",
      " 9   minute               71114 non-null  int64 \n",
      " 10  totalGold            71114 non-null  int64 \n",
      " 11  level                71114 non-null  int64 \n",
      " 12  xp                   71114 non-null  int64 \n",
      " 13  minionsKilled        71114 non-null  int64 \n",
      " 14  jungleMinionsKilled  71114 non-null  int64 \n",
      " 15  attackDamage         71114 non-null  int64 \n",
      " 16  armor                71114 non-null  int64 \n",
      " 17  magicResist          71114 non-null  int64 \n",
      " 18  healthMax            71114 non-null  int64 \n",
      " 19  healthRegen          71114 non-null  int64 \n",
      " 20  powerMax             71114 non-null  int64 \n",
      " 21  lifesteal            71114 non-null  int64 \n",
      " 22  statPerks.defense    71114 non-null  object\n",
      " 23  statPerks.flex       71114 non-null  object\n",
      " 24  statPerks.offense    71114 non-null  object\n",
      " 25  keystone             71114 non-null  object\n",
      " 26  p1                   71114 non-null  object\n",
      " 27  p2                   71114 non-null  object\n",
      " 28  p3                   71114 non-null  object\n",
      " 29  s1                   71114 non-null  object\n",
      " 30  s2                   71114 non-null  object\n",
      " 31  SummonerTeleport     71114 non-null  bool  \n",
      " 32  SummonerDot          71114 non-null  bool  \n",
      " 33  SummonerHaste        71114 non-null  bool  \n",
      " 34  SummonerFlash        71114 non-null  bool  \n",
      " 35  SummonerHeal         71114 non-null  bool  \n",
      " 36  SummonerSmite        71114 non-null  bool  \n",
      " 37  SummonerBoost        71114 non-null  bool  \n",
      " 38  SummonerExhaust      71114 non-null  bool  \n",
      " 39  SummonerBarrier      71114 non-null  bool  \n",
      "dtypes: bool(11), int64(17), object(12)\n",
      "memory usage: 19.0+ MB\n"
     ]
    }
   ],
   "source": [
    "# Feature table before ohe\n",
    "y = balanced.label\n",
    "X = balanced.drop('label',axis = 1)\n",
    "X.info()"
   ]
  },
  {
   "cell_type": "code",
   "execution_count": 31,
   "id": "3ed3a5ce",
   "metadata": {},
   "outputs": [
    {
     "data": {
      "text/plain": [
       "(71114, 508)"
      ]
     },
     "execution_count": 31,
     "metadata": {},
     "output_type": "execute_result"
    }
   ],
   "source": [
    "#ohe all categorical features\n",
    "X = pd.get_dummies(X)\n",
    "X.shape"
   ]
  },
  {
   "cell_type": "markdown",
   "id": "3aef2d4c",
   "metadata": {},
   "source": [
    "### Train-test split"
   ]
  },
  {
   "cell_type": "code",
   "execution_count": 32,
   "id": "6da016a0",
   "metadata": {},
   "outputs": [],
   "source": [
    "from sklearn.model_selection import train_test_split\n",
    "X_train, X_test, y_train, y_test = train_test_split(\n",
    "X, y, test_size=0.33, random_state=42)"
   ]
  },
  {
   "cell_type": "code",
   "execution_count": 33,
   "id": "d72f0289",
   "metadata": {
    "scrolled": true
   },
   "outputs": [
    {
     "name": "stdout",
     "output_type": "stream",
     "text": [
      "train True     23846\n",
      "False    23800\n",
      "Name: label, dtype: int64\n",
      "test False    11757\n",
      "True     11711\n",
      "Name: label, dtype: int64\n"
     ]
    }
   ],
   "source": [
    "print('train',y_train.value_counts())\n",
    "print('test',y_test.value_counts())"
   ]
  },
  {
   "cell_type": "markdown",
   "id": "6aa2434c",
   "metadata": {},
   "source": [
    "# Simple DT with grid search and CV"
   ]
  },
  {
   "cell_type": "markdown",
   "id": "eb14aab3",
   "metadata": {},
   "source": [
    "This model took roughly an hour to fit, with 350 fits. Each fit takes roughly 10 seconds."
   ]
  },
  {
   "cell_type": "code",
   "execution_count": 34,
   "id": "fbe821c8",
   "metadata": {},
   "outputs": [],
   "source": [
    "# Simple DT with grid search and cv\n",
    "from sklearn import tree\n",
    "from sklearn.model_selection import GridSearchCV\n",
    "\n",
    "clf = tree.DecisionTreeClassifier(random_state=42)"
   ]
  },
  {
   "cell_type": "code",
   "execution_count": 59,
   "id": "0d032e83",
   "metadata": {},
   "outputs": [
    {
     "data": {
      "text/plain": [
       "0.7933300708931051"
      ]
     },
     "execution_count": 59,
     "metadata": {},
     "output_type": "execute_result"
    }
   ],
   "source": [
    "criterion = ['gini', 'entropy'] \n",
    "max_depth = [10,20,40,None] \n",
    "min_samples_leaf = [1,10,100,1000] \n",
    "min_samples_split=[2,20,200,2000] \n",
    "min_impurity_decrease = [0.0, 0.01,0.1]\n",
    "\n",
    "parameters = dict(criterion=criterion,\n",
    "                  max_depth=max_depth,\n",
    "                  min_samples_leaf = min_samples_leaf,\n",
    "                  min_samples_split = min_samples_split,\n",
    "                  min_impurity_decrease = min_impurity_decrease)\n",
    "\n",
    "clf_GS = GridSearchCV(clf,param_grid=parameters)\n",
    "clf_GS.fit(X_train,y_train)\n",
    "best = clf_GS.best_estimator_\n",
    "clf_GS.best_score_"
   ]
  },
  {
   "cell_type": "code",
   "execution_count": 60,
   "id": "daff2621",
   "metadata": {},
   "outputs": [
    {
     "data": {
      "text/plain": [
       "0.7909919890915289"
      ]
     },
     "execution_count": 60,
     "metadata": {},
     "output_type": "execute_result"
    }
   ],
   "source": [
    "#Evalutation on test set\n",
    "best.score(X_test, y_test)"
   ]
  },
  {
   "cell_type": "code",
   "execution_count": 61,
   "id": "e052b578",
   "metadata": {},
   "outputs": [
    {
     "data": {
      "text/plain": [
       "{'ccp_alpha': 0.0,\n",
       " 'class_weight': None,\n",
       " 'criterion': 'entropy',\n",
       " 'max_depth': 20,\n",
       " 'max_features': None,\n",
       " 'max_leaf_nodes': None,\n",
       " 'min_impurity_decrease': 0.0,\n",
       " 'min_samples_leaf': 10,\n",
       " 'min_samples_split': 200,\n",
       " 'min_weight_fraction_leaf': 0.0,\n",
       " 'random_state': 42,\n",
       " 'splitter': 'best'}"
      ]
     },
     "execution_count": 61,
     "metadata": {},
     "output_type": "execute_result"
    }
   ],
   "source": [
    "best.get_params()"
   ]
  },
  {
   "cell_type": "markdown",
   "id": "280e6820",
   "metadata": {},
   "source": [
    "### Evaluation\n",
    "\n",
    "We reached 79% accuracy in test set. From confusion matrix, we are making much more False Positives than False Negatives. In other words, the tree tends to predict players would buy boots when they actually don't."
   ]
  },
  {
   "cell_type": "code",
   "execution_count": 40,
   "id": "23c411d7",
   "metadata": {
    "scrolled": true
   },
   "outputs": [
    {
     "name": "stdout",
     "output_type": "stream",
     "text": [
      "Predicted  False  True\n",
      "Actual                \n",
      "False       8727  3030\n",
      "True        1875  9836\n"
     ]
    }
   ],
   "source": [
    "y_pred = best.predict(X_test)\n",
    "cm= pd.crosstab(y_test, y_pred, rownames=['Actual'], colnames=['Predicted'])\n",
    "#https://datatofish.com/confusion-matrix-python/\n",
    "print (cm)"
   ]
  },
  {
   "cell_type": "code",
   "execution_count": 41,
   "id": "cf21dd18",
   "metadata": {
    "scrolled": true
   },
   "outputs": [
    {
     "name": "stdout",
     "output_type": "stream",
     "text": [
      "              precision    recall  f1-score   support\n",
      "\n",
      "       False       0.82      0.74      0.78     11757\n",
      "        True       0.76      0.84      0.80     11711\n",
      "\n",
      "    accuracy                           0.79     23468\n",
      "   macro avg       0.79      0.79      0.79     23468\n",
      "weighted avg       0.79      0.79      0.79     23468\n",
      "\n"
     ]
    }
   ],
   "source": [
    "from sklearn.metrics import classification_report\n",
    "print(classification_report(y_test, y_pred))"
   ]
  },
  {
   "cell_type": "code",
   "execution_count": 192,
   "id": "bfc5e365",
   "metadata": {
    "scrolled": true
   },
   "outputs": [
    {
     "name": "stdout",
     "output_type": "stream",
     "text": [
      "AUC score is 0.7910876554123313\n"
     ]
    },
    {
     "data": {
      "text/plain": [
       "<sklearn.metrics._plot.roc_curve.RocCurveDisplay at 0x18db7d1db80>"
      ]
     },
     "execution_count": 192,
     "metadata": {},
     "output_type": "execute_result"
    },
    {
     "data": {
      "image/png": "[encoded data removed]",
      "text/plain": [
       "<Figure size 432x288 with 1 Axes>"
      ]
     },
     "metadata": {
      "needs_background": "light"
     },
     "output_type": "display_data"
    }
   ],
   "source": [
    "from sklearn.metrics import roc_auc_score\n",
    "from sklearn.metrics import RocCurveDisplay\n",
    "print('AUC score is', roc_auc_score(y_test, y_pred))\n",
    "RocCurveDisplay.from_predictions(y_test, y_pred)"
   ]
  },
  {
   "cell_type": "markdown",
   "id": "3672182a",
   "metadata": {},
   "source": [
    "### Visualizaiton\n",
    "\n",
    "Below I visualized the first 4 layers of our best tree. As can be seen, Magical Footwear (that prevents you from buying boots) and total gold (800 being starting items + boots) are used as first predictors, as we expect. Yuumi (who usually doesn't buy boots) comes as another splitting feature."
   ]
  },
  {
   "cell_type": "code",
   "execution_count": 56,
   "id": "629a6c17",
   "metadata": {},
   "outputs": [
    {
     "data": {
      "image/png": "[encoded data removed]",
      "text/plain": [
       "<Figure size 1440x1152 with 1 Axes>"
      ]
     },
     "metadata": {
      "needs_background": "light"
     },
     "output_type": "display_data"
    }
   ],
   "source": [
    "from matplotlib import pyplot as plt\n",
    "plt.figure(figsize = (20,16))\n",
    "tree.plot_tree(best, max_depth = 4, feature_names= fn, class_names=cn, filled = True, fontsize = 12)\n",
    "plt.show()"
   ]
  },
  {
   "cell_type": "code",
   "execution_count": 66,
   "id": "0eac23f1",
   "metadata": {
    "scrolled": true
   },
   "outputs": [],
   "source": [
    "importances = pd.Series(best.feature_importances_, index = best.feature_names_in_)\n",
    "importances = importances.sort_values(ascending=False)"
   ]
  },
  {
   "cell_type": "markdown",
   "id": "8b45d633",
   "metadata": {},
   "source": [
    "Top 10 most important features are shown below using Mean Decrease in Inpurity. It's surprising to see attack damage as the third most important features, only after gold amount and magical footwear."
   ]
  },
  {
   "cell_type": "code",
   "execution_count": 71,
   "id": "44ded907",
   "metadata": {},
   "outputs": [
    {
     "data": {
      "image/png": "[encoded data removed]",
      "text/plain": [
       "<Figure size 504x504 with 1 Axes>"
      ]
     },
     "metadata": {
      "needs_background": "light"
     },
     "output_type": "display_data"
    }
   ],
   "source": [
    "fig, ax = plt.subplots()\n",
    "fig.set_size_inches(7,7)\n",
    "importances[0:10].plot.bar(ax=ax)\n",
    "ax.set_title(\"Feature importances using MDI\", fontsize = 16)\n",
    "ax.set_ylabel(\"Mean decrease in impurity\", fontsize = 14)\n",
    "fig.tight_layout()"
   ]
  },
  {
   "cell_type": "markdown",
   "id": "83f8d64a",
   "metadata": {},
   "source": [
    "## Random Forests\n",
    "\n",
    "Random forest improves our accuracy by roughly 0.6% and results in a more balanced error distribution. Still, we see more false positives than false negatives. (higher true class recall than precision)"
   ]
  },
  {
   "cell_type": "code",
   "execution_count": 72,
   "id": "7beda4b5",
   "metadata": {},
   "outputs": [
    {
     "name": "stdout",
     "output_type": "stream",
     "text": [
      "Fitting 3 folds for each of 10 candidates, totalling 30 fits\n"
     ]
    },
    {
     "data": {
      "text/plain": [
       "RandomizedSearchCV(cv=3, estimator=RandomForestClassifier(random_state=42),\n",
       "                   n_jobs=-1,\n",
       "                   param_distributions={'bootstrap': [True, False],\n",
       "                                        'criterion': ['gini', 'entropy'],\n",
       "                                        'max_depth': [10, 20, 40, None],\n",
       "                                        'max_features': ['auto', 'sqrt',\n",
       "                                                         'log2'],\n",
       "                                        'min_samples_leaf': [2, 5, 10, 100],\n",
       "                                        'min_samples_split': [4, 10, 20, 200],\n",
       "                                        'n_estimators': [200, 400, 600]},\n",
       "                   random_state=42, verbose=2)"
      ]
     },
     "execution_count": 72,
     "metadata": {},
     "output_type": "execute_result"
    }
   ],
   "source": [
    "from sklearn.ensemble import RandomForestClassifier\n",
    "from sklearn.model_selection import RandomizedSearchCV\n",
    "\n",
    "rf = RandomForestClassifier(random_state= 42)\n",
    "\n",
    "parameters = dict(n_estimators = [200,400,600],\n",
    "                  criterion = ['gini','entropy'],\n",
    "                  max_depth = [10,20,40,None],\n",
    "                 max_features = ['auto','sqrt','log2'],\n",
    "                 min_samples_leaf = [2,5,10,100],\n",
    "                  min_samples_split = [4,10,20,200],\n",
    "                  bootstrap = [True,False]\n",
    "                 )\n",
    "\n",
    "\n",
    "rf_random = RandomizedSearchCV(estimator = rf, param_distributions=parameters, verbose = 2,random_state = 42, n_jobs= -1, cv = 3)\n",
    "rf_random.fit(X_train, y_train)"
   ]
  },
  {
   "cell_type": "code",
   "execution_count": 73,
   "id": "1ba062f0",
   "metadata": {},
   "outputs": [
    {
     "data": {
      "text/plain": [
       "{'n_estimators': 200,\n",
       " 'min_samples_split': 20,\n",
       " 'min_samples_leaf': 2,\n",
       " 'max_features': 'sqrt',\n",
       " 'max_depth': None,\n",
       " 'criterion': 'gini',\n",
       " 'bootstrap': False}"
      ]
     },
     "execution_count": 73,
     "metadata": {},
     "output_type": "execute_result"
    }
   ],
   "source": [
    "rf_random.best_params_"
   ]
  },
  {
   "cell_type": "code",
   "execution_count": 78,
   "id": "016b9aed",
   "metadata": {},
   "outputs": [
    {
     "data": {
      "text/plain": [
       "0.7961905573546958"
      ]
     },
     "execution_count": 78,
     "metadata": {},
     "output_type": "execute_result"
    }
   ],
   "source": [
    "rf_random.score(X_test, y_test)"
   ]
  },
  {
   "cell_type": "code",
   "execution_count": 79,
   "id": "f11a81c4",
   "metadata": {
    "scrolled": true
   },
   "outputs": [
    {
     "name": "stdout",
     "output_type": "stream",
     "text": [
      "Predicted  False  True\n",
      "Actual                \n",
      "False       8981  2776\n",
      "True        2007  9704\n"
     ]
    }
   ],
   "source": [
    "y_pred = rf_random.predict(X_test)\n",
    "cm= pd.crosstab(y_test, y_pred, rownames=['Actual'], colnames=['Predicted'])\n",
    "print (cm)"
   ]
  },
  {
   "cell_type": "code",
   "execution_count": 80,
   "id": "62e6315e",
   "metadata": {
    "scrolled": true
   },
   "outputs": [
    {
     "name": "stdout",
     "output_type": "stream",
     "text": [
      "              precision    recall  f1-score   support\n",
      "\n",
      "       False       0.82      0.76      0.79     11757\n",
      "        True       0.78      0.83      0.80     11711\n",
      "\n",
      "    accuracy                           0.80     23468\n",
      "   macro avg       0.80      0.80      0.80     23468\n",
      "weighted avg       0.80      0.80      0.80     23468\n",
      "\n"
     ]
    }
   ],
   "source": [
    "from sklearn.metrics import classification_report\n",
    "print(classification_report(y_test, y_pred))"
   ]
  },
  {
   "cell_type": "code",
   "execution_count": 81,
   "id": "c3893928",
   "metadata": {
    "scrolled": false
   },
   "outputs": [
    {
     "name": "stdout",
     "output_type": "stream",
     "text": [
      "AUC score is 0.7962540036775065\n"
     ]
    },
    {
     "data": {
      "text/plain": [
       "<sklearn.metrics._plot.roc_curve.RocCurveDisplay at 0x284068882b0>"
      ]
     },
     "execution_count": 81,
     "metadata": {},
     "output_type": "execute_result"
    },
    {
     "data": {
      "image/png": "[encoded data removed]",
      "text/plain": [
       "<Figure size 432x288 with 1 Axes>"
      ]
     },
     "metadata": {
      "needs_background": "light"
     },
     "output_type": "display_data"
    }
   ],
   "source": [
    "from sklearn.metrics import roc_auc_score\n",
    "from sklearn.metrics import RocCurveDisplay\n",
    "print('AUC score is', roc_auc_score(y_test, y_pred))\n",
    "RocCurveDisplay.from_predictions(y_test, y_pred)"
   ]
  },
  {
   "cell_type": "markdown",
   "id": "dd8aef6b",
   "metadata": {},
   "source": [
    "### Visualizaiton\n",
    "\n",
    "Below I visualized the first 4 layers of our best tree. As can be seen, Magical Footwear (that prevents you from buying boots) and total gold (800 being starting items + boots) are used as first predictors, as we expect. Yuumi (who usually doesn't buy boots) comes as another splitting feature."
   ]
  },
  {
   "cell_type": "code",
   "execution_count": 83,
   "id": "ec35b153",
   "metadata": {},
   "outputs": [
    {
     "ename": "AttributeError",
     "evalue": "'RandomizedSearchCV' object has no attribute 'estimators_'",
     "output_type": "error",
     "traceback": [
      "\u001b[1;31m---------------------------------------------------------------------------\u001b[0m",
      "\u001b[1;31mAttributeError\u001b[0m                            Traceback (most recent call last)",
      "\u001b[1;32mC:\\Users\\YAWEI~1.DES\\AppData\\Local\\Temp/ipykernel_13860/1208462787.py\u001b[0m in \u001b[0;36m<module>\u001b[1;34m\u001b[0m\n\u001b[1;32m----> 1\u001b[1;33m \u001b[0mrfexample\u001b[0m \u001b[1;33m=\u001b[0m \u001b[0mrf_random\u001b[0m\u001b[1;33m.\u001b[0m\u001b[0mestimators_\u001b[0m\u001b[1;33m[\u001b[0m\u001b[1;36m42\u001b[0m\u001b[1;33m]\u001b[0m\u001b[1;33m\u001b[0m\u001b[1;33m\u001b[0m\u001b[0m\n\u001b[0m\u001b[0;32m      2\u001b[0m \u001b[0mplt\u001b[0m\u001b[1;33m.\u001b[0m\u001b[0mfigure\u001b[0m\u001b[1;33m(\u001b[0m\u001b[0mfigsize\u001b[0m \u001b[1;33m=\u001b[0m \u001b[1;33m(\u001b[0m\u001b[1;36m20\u001b[0m\u001b[1;33m,\u001b[0m\u001b[1;36m16\u001b[0m\u001b[1;33m)\u001b[0m\u001b[1;33m)\u001b[0m\u001b[1;33m\u001b[0m\u001b[1;33m\u001b[0m\u001b[0m\n\u001b[0;32m      3\u001b[0m \u001b[0mtree\u001b[0m\u001b[1;33m.\u001b[0m\u001b[0mplot_tree\u001b[0m\u001b[1;33m(\u001b[0m\u001b[0mrfexample\u001b[0m\u001b[1;33m,\u001b[0m \u001b[0mmax_depth\u001b[0m \u001b[1;33m=\u001b[0m \u001b[1;36m4\u001b[0m\u001b[1;33m,\u001b[0m \u001b[0mfeature_names\u001b[0m\u001b[1;33m=\u001b[0m \u001b[0mfn\u001b[0m\u001b[1;33m,\u001b[0m \u001b[0mclass_names\u001b[0m\u001b[1;33m=\u001b[0m\u001b[0mcn\u001b[0m\u001b[1;33m,\u001b[0m \u001b[0mfilled\u001b[0m \u001b[1;33m=\u001b[0m \u001b[1;32mTrue\u001b[0m\u001b[1;33m,\u001b[0m \u001b[0mfontsize\u001b[0m \u001b[1;33m=\u001b[0m \u001b[1;36m12\u001b[0m\u001b[1;33m)\u001b[0m\u001b[1;33m\u001b[0m\u001b[1;33m\u001b[0m\u001b[0m\n\u001b[0;32m      4\u001b[0m \u001b[0mplt\u001b[0m\u001b[1;33m.\u001b[0m\u001b[0mshow\u001b[0m\u001b[1;33m(\u001b[0m\u001b[1;33m)\u001b[0m\u001b[1;33m\u001b[0m\u001b[1;33m\u001b[0m\u001b[0m\n",
      "\u001b[1;31mAttributeError\u001b[0m: 'RandomizedSearchCV' object has no attribute 'estimators_'"
     ]
    }
   ],
   "source": [
    "rfexample = rf_random.estimators_[42]\n",
    "plt.figure(figsize = (20,16))\n",
    "tree.plot_tree(rfexample, max_depth = 4, feature_names= fn, class_names=cn, filled = True, fontsize = 12)\n",
    "plt.show()"
   ]
  },
  {
   "cell_type": "code",
   "execution_count": 66,
   "id": "2ded387d",
   "metadata": {
    "scrolled": true
   },
   "outputs": [],
   "source": [
    "importances = pd.Series(best.feature_importances_, index = best.feature_names_in_)\n",
    "importances = importances.sort_values(ascending=False)"
   ]
  },
  {
   "cell_type": "markdown",
   "id": "07c94df1",
   "metadata": {},
   "source": [
    "Top 10 most important features are shown below using Mean Decrease in Inpurity. It's surprising to see attack damage as the third most important features, only after gold amount and magical footwear."
   ]
  },
  {
   "cell_type": "code",
   "execution_count": 71,
   "id": "bc0a74ad",
   "metadata": {},
   "outputs": [
    {
     "data": {
      "image/png": "[encoded data removed]",
      "text/plain": [
       "<Figure size 504x504 with 1 Axes>"
      ]
     },
     "metadata": {
      "needs_background": "light"
     },
     "output_type": "display_data"
    }
   ],
   "source": [
    "fig, ax = plt.subplots()\n",
    "fig.set_size_inches(7,7)\n",
    "importances[0:10].plot.bar(ax=ax)\n",
    "ax.set_title(\"Feature importances using MDI\", fontsize = 16)\n",
    "ax.set_ylabel(\"Mean decrease in impurity\", fontsize = 14)\n",
    "fig.tight_layout()"
   ]
  },
  {
   "cell_type": "markdown",
   "id": "3d6b1d14",
   "metadata": {},
   "source": [
    "## Logistic Regression Classifier (with Polynomial Representation)\n",
    "Logistic Regression took roughly 2 hours for 315 maximum possible fits. Suppose 80% of them are good (some penalties don't work with certain solver), each fits requires rougly 30 seconds."
   ]
  },
  {
   "cell_type": "code",
   "execution_count": 24,
   "id": "e049f24f",
   "metadata": {},
   "outputs": [],
   "source": [
    "# Standardization\n",
    "from sklearn.preprocessing import StandardScaler\n",
    "scaler = StandardScaler()\n",
    "X_train_std = scaler.fit_transform(X_train)\n",
    "X_test_std = scaler.transform(X_test)"
   ]
  },
  {
   "cell_type": "code",
   "execution_count": null,
   "id": "6543e642",
   "metadata": {},
   "outputs": [],
   "source": [
    "# Logistic Regression Classifier with Grid Search and CV\n",
    "from sklearn.linear_model import LogisticRegression\n",
    "logclf = LogisticRegression(random_state = 42)\n",
    "penalty = ['none','l1','l2']\n",
    "solver = ['newton-cg', 'lbfgs', 'liblinear']\n",
    "C = [0.001,0.01,0.1,1,10,100,1000]\n",
    "parameters = dict(penalty = penalty, C = C, solver = solver)\n",
    "log_GS = GridSearchCV(logclf,parameters)\n",
    "log_GS.fit(X_train_std,y_train)"
   ]
  },
  {
   "cell_type": "code",
   "execution_count": 230,
   "id": "84d0f86f",
   "metadata": {},
   "outputs": [
    {
     "data": {
      "text/plain": [
       "{'C': 10, 'penalty': 'l2', 'solver': 'newton-cg'}"
      ]
     },
     "execution_count": 230,
     "metadata": {},
     "output_type": "execute_result"
    }
   ],
   "source": [
    "log_GS.best_params_"
   ]
  },
  {
   "cell_type": "code",
   "execution_count": 231,
   "id": "12acd14f",
   "metadata": {},
   "outputs": [
    {
     "data": {
      "text/plain": [
       "0.7842002097314467"
      ]
     },
     "execution_count": 231,
     "metadata": {},
     "output_type": "execute_result"
    }
   ],
   "source": [
    "log_GS.best_score_"
   ]
  },
  {
   "cell_type": "code",
   "execution_count": 233,
   "id": "e4bc1314",
   "metadata": {},
   "outputs": [
    {
     "data": {
      "text/html": [
       "<div>\n",
       "<style scoped>\n",
       "    .dataframe tbody tr th:only-of-type {\n",
       "        vertical-align: middle;\n",
       "    }\n",
       "\n",
       "    .dataframe tbody tr th {\n",
       "        vertical-align: top;\n",
       "    }\n",
       "\n",
       "    .dataframe thead th {\n",
       "        text-align: right;\n",
       "    }\n",
       "</style>\n",
       "<table border=\"1\" class=\"dataframe\">\n",
       "  <thead>\n",
       "    <tr style=\"text-align: right;\">\n",
       "      <th></th>\n",
       "      <th>coef</th>\n",
       "      <th>names</th>\n",
       "    </tr>\n",
       "  </thead>\n",
       "  <tbody>\n",
       "    <tr>\n",
       "      <th>438</th>\n",
       "      <td>-5.444769</td>\n",
       "      <td>s1_MagicalFootwear</td>\n",
       "    </tr>\n",
       "    <tr>\n",
       "      <th>484</th>\n",
       "      <td>-3.119853</td>\n",
       "      <td>s2_MagicalFootwear</td>\n",
       "    </tr>\n",
       "    <tr>\n",
       "      <th>17</th>\n",
       "      <td>-2.336605</td>\n",
       "      <td>powerMax</td>\n",
       "    </tr>\n",
       "    <tr>\n",
       "      <th>166</th>\n",
       "      <td>2.245306</td>\n",
       "      <td>championName_Viego</td>\n",
       "    </tr>\n",
       "    <tr>\n",
       "      <th>12</th>\n",
       "      <td>-1.623996</td>\n",
       "      <td>attackDamage</td>\n",
       "    </tr>\n",
       "    <tr>\n",
       "      <th>418</th>\n",
       "      <td>1.276891</td>\n",
       "      <td>s1_BiscuitDelivery</td>\n",
       "    </tr>\n",
       "    <tr>\n",
       "      <th>8</th>\n",
       "      <td>1.247030</td>\n",
       "      <td>level</td>\n",
       "    </tr>\n",
       "    <tr>\n",
       "      <th>7</th>\n",
       "      <td>1.142860</td>\n",
       "      <td>totalGold</td>\n",
       "    </tr>\n",
       "    <tr>\n",
       "      <th>374</th>\n",
       "      <td>-1.049198</td>\n",
       "      <td>p1_MagicalFootwear</td>\n",
       "    </tr>\n",
       "    <tr>\n",
       "      <th>15</th>\n",
       "      <td>-0.893211</td>\n",
       "      <td>healthMax</td>\n",
       "    </tr>\n",
       "    <tr>\n",
       "      <th>9</th>\n",
       "      <td>-0.683394</td>\n",
       "      <td>xp</td>\n",
       "    </tr>\n",
       "    <tr>\n",
       "      <th>379</th>\n",
       "      <td>0.645988</td>\n",
       "      <td>p1_PerfectTiming</td>\n",
       "    </tr>\n",
       "    <tr>\n",
       "      <th>46</th>\n",
       "      <td>-0.625412</td>\n",
       "      <td>championName_Cassiopeia</td>\n",
       "    </tr>\n",
       "    <tr>\n",
       "      <th>423</th>\n",
       "      <td>0.591600</td>\n",
       "      <td>s1_CosmicInsight</td>\n",
       "    </tr>\n",
       "    <tr>\n",
       "      <th>469</th>\n",
       "      <td>-0.554099</td>\n",
       "      <td>s2_CosmicInsight</td>\n",
       "    </tr>\n",
       "    <tr>\n",
       "      <th>177</th>\n",
       "      <td>-0.517125</td>\n",
       "      <td>championName_Yuumi</td>\n",
       "    </tr>\n",
       "    <tr>\n",
       "      <th>24</th>\n",
       "      <td>-0.469633</td>\n",
       "      <td>SummonerSmite</td>\n",
       "    </tr>\n",
       "    <tr>\n",
       "      <th>429</th>\n",
       "      <td>0.454874</td>\n",
       "      <td>s1_FuturesMarket</td>\n",
       "    </tr>\n",
       "    <tr>\n",
       "      <th>432</th>\n",
       "      <td>0.442102</td>\n",
       "      <td>s1_HextechFlashtraption</td>\n",
       "    </tr>\n",
       "    <tr>\n",
       "      <th>445</th>\n",
       "      <td>0.437934</td>\n",
       "      <td>s1_PerfectTiming</td>\n",
       "    </tr>\n",
       "  </tbody>\n",
       "</table>\n",
       "</div>"
      ],
      "text/plain": [
       "         coef                    names\n",
       "438 -5.444769       s1_MagicalFootwear\n",
       "484 -3.119853       s2_MagicalFootwear\n",
       "17  -2.336605                 powerMax\n",
       "166  2.245306       championName_Viego\n",
       "12  -1.623996             attackDamage\n",
       "418  1.276891       s1_BiscuitDelivery\n",
       "8    1.247030                    level\n",
       "7    1.142860                totalGold\n",
       "374 -1.049198       p1_MagicalFootwear\n",
       "15  -0.893211                healthMax\n",
       "9   -0.683394                       xp\n",
       "379  0.645988         p1_PerfectTiming\n",
       "46  -0.625412  championName_Cassiopeia\n",
       "423  0.591600         s1_CosmicInsight\n",
       "469 -0.554099         s2_CosmicInsight\n",
       "177 -0.517125       championName_Yuumi\n",
       "24  -0.469633            SummonerSmite\n",
       "429  0.454874         s1_FuturesMarket\n",
       "432  0.442102  s1_HextechFlashtraption\n",
       "445  0.437934         s1_PerfectTiming"
      ]
     },
     "execution_count": 233,
     "metadata": {},
     "output_type": "execute_result"
    }
   ],
   "source": [
    "# Best Model\n",
    "bestlr = log_GS.best_estimator_\n",
    "feature_names = X.columns.tolist()\n",
    "fi = pd.DataFrame({'coef':bestlr.coef_.flatten(),'names':feature_names})\n",
    "fi.reindex(fi.coef.abs().sort_values(ascending = False).index)[0:20]"
   ]
  },
  {
   "cell_type": "code",
   "execution_count": 228,
   "id": "ceee2860",
   "metadata": {},
   "outputs": [],
   "source": [
    "#Poly version\n",
    "from sklearn.preprocessing import PolynomialFeatures\n",
    "poly = PolynomialFeatures(1)\n",
    "X_train_std_poly = poly.fit_transform(X_train_std)\n",
    "X_test_std_poly = poly.transform(X_test_std)"
   ]
  },
  {
   "cell_type": "code",
   "execution_count": null,
   "id": "9a83eef1",
   "metadata": {},
   "outputs": [],
   "source": [
    "logp_GS = GridSearchCV(logclf,parameters)\n",
    "logp_GS.fit(X_train_std_poly,y_train)"
   ]
  },
  {
   "cell_type": "code",
   "execution_count": 234,
   "id": "7b1b674b",
   "metadata": {},
   "outputs": [
    {
     "data": {
      "text/plain": [
       "{'C': 10, 'penalty': 'l2', 'solver': 'liblinear'}"
      ]
     },
     "execution_count": 234,
     "metadata": {},
     "output_type": "execute_result"
    }
   ],
   "source": [
    "logp_GS.best_params_"
   ]
  },
  {
   "cell_type": "code",
   "execution_count": 235,
   "id": "5f3a64bf",
   "metadata": {
    "scrolled": false
   },
   "outputs": [
    {
     "data": {
      "text/plain": [
       "0.7842211982926808"
      ]
     },
     "execution_count": 235,
     "metadata": {},
     "output_type": "execute_result"
    }
   ],
   "source": [
    "logp_GS.best_score_"
   ]
  },
  {
   "cell_type": "code",
   "execution_count": 236,
   "id": "4253608b",
   "metadata": {},
   "outputs": [
    {
     "data": {
      "text/html": [
       "<div>\n",
       "<style scoped>\n",
       "    .dataframe tbody tr th:only-of-type {\n",
       "        vertical-align: middle;\n",
       "    }\n",
       "\n",
       "    .dataframe tbody tr th {\n",
       "        vertical-align: top;\n",
       "    }\n",
       "\n",
       "    .dataframe thead th {\n",
       "        text-align: right;\n",
       "    }\n",
       "</style>\n",
       "<table border=\"1\" class=\"dataframe\">\n",
       "  <thead>\n",
       "    <tr style=\"text-align: right;\">\n",
       "      <th></th>\n",
       "      <th>coef</th>\n",
       "      <th>names</th>\n",
       "    </tr>\n",
       "  </thead>\n",
       "  <tbody>\n",
       "    <tr>\n",
       "      <th>439</th>\n",
       "      <td>-5.429630</td>\n",
       "      <td>x438</td>\n",
       "    </tr>\n",
       "    <tr>\n",
       "      <th>485</th>\n",
       "      <td>-3.101856</td>\n",
       "      <td>x484</td>\n",
       "    </tr>\n",
       "    <tr>\n",
       "      <th>18</th>\n",
       "      <td>-2.332003</td>\n",
       "      <td>x17</td>\n",
       "    </tr>\n",
       "    <tr>\n",
       "      <th>167</th>\n",
       "      <td>2.240788</td>\n",
       "      <td>x166</td>\n",
       "    </tr>\n",
       "    <tr>\n",
       "      <th>13</th>\n",
       "      <td>-1.623817</td>\n",
       "      <td>x12</td>\n",
       "    </tr>\n",
       "    <tr>\n",
       "      <th>...</th>\n",
       "      <td>...</td>\n",
       "      <td>...</td>\n",
       "    </tr>\n",
       "    <tr>\n",
       "      <th>411</th>\n",
       "      <td>0.000546</td>\n",
       "      <td>x410</td>\n",
       "    </tr>\n",
       "    <tr>\n",
       "      <th>414</th>\n",
       "      <td>0.000474</td>\n",
       "      <td>x413</td>\n",
       "    </tr>\n",
       "    <tr>\n",
       "      <th>166</th>\n",
       "      <td>0.000459</td>\n",
       "      <td>x165</td>\n",
       "    </tr>\n",
       "    <tr>\n",
       "      <th>242</th>\n",
       "      <td>-0.000404</td>\n",
       "      <td>x241</td>\n",
       "    </tr>\n",
       "    <tr>\n",
       "      <th>302</th>\n",
       "      <td>0.000147</td>\n",
       "      <td>x301</td>\n",
       "    </tr>\n",
       "  </tbody>\n",
       "</table>\n",
       "<p>509 rows × 2 columns</p>\n",
       "</div>"
      ],
      "text/plain": [
       "         coef names\n",
       "439 -5.429630  x438\n",
       "485 -3.101856  x484\n",
       "18  -2.332003   x17\n",
       "167  2.240788  x166\n",
       "13  -1.623817   x12\n",
       "..        ...   ...\n",
       "411  0.000546  x410\n",
       "414  0.000474  x413\n",
       "166  0.000459  x165\n",
       "242 -0.000404  x241\n",
       "302  0.000147  x301\n",
       "\n",
       "[509 rows x 2 columns]"
      ]
     },
     "execution_count": 236,
     "metadata": {},
     "output_type": "execute_result"
    }
   ],
   "source": [
    "# Best Model for Poly\n",
    "best2 = logp_GS.best_estimator_\n",
    "feature_names = poly.get_feature_names_out()\n",
    "fi = pd.DataFrame({'coef':best2.coef_.flatten(),'names':feature_names})\n",
    "fi.reindex(fi.coef.abs().sort_values(ascending = False).index)\n",
    "# How to get feature names? They are lost in standardization process."
   ]
  },
  {
   "cell_type": "code",
   "execution_count": 237,
   "id": "4860242c",
   "metadata": {
    "scrolled": true
   },
   "outputs": [
    {
     "name": "stdout",
     "output_type": "stream",
     "text": [
      "0.7834498039884098\n",
      "0.7834071927731379\n"
     ]
    }
   ],
   "source": [
    "#Evaluation\n",
    "print(bestlr.score(X_test_std,y_test))\n",
    "print(best2.score(X_test_std_poly,y_test))"
   ]
  },
  {
   "cell_type": "code",
   "execution_count": 239,
   "id": "4935158a",
   "metadata": {},
   "outputs": [
    {
     "name": "stdout",
     "output_type": "stream",
     "text": [
      "[[8800 2957]\n",
      " [2125 9586]]\n",
      "Precision 0.764\n",
      "recall 0.819\n"
     ]
    }
   ],
   "source": [
    "from sklearn.metrics import confusion_matrix\n",
    "\n",
    "y_pred = bestlr.predict(X_test_std)\n",
    "cmdf = confusion_matrix(y_test, y_pred)\n",
    "tn, fp, fn, tp = cmdf.ravel()\n",
    "print(cmdf)\n",
    "precision = round(tp/(tp+fp),3)\n",
    "recall = round(tp/(tp+fn),3)\n",
    "print('Precision {}'.format(precision))\n",
    "print('recall {}'.format(recall))"
   ]
  },
  {
   "cell_type": "code",
   "execution_count": 240,
   "id": "027c66b6",
   "metadata": {
    "scrolled": true
   },
   "outputs": [
    {
     "name": "stdout",
     "output_type": "stream",
     "text": [
      "Predicted  False  True\n",
      "Actual                \n",
      "False       8800  2957\n",
      "True        2125  9586\n"
     ]
    }
   ],
   "source": [
    "cm= pd.crosstab(y_test, y_pred, rownames=['Actual'], colnames=['Predicted'])\n",
    "#https://datatofish.com/confusion-matrix-python/\n",
    "print (cm)"
   ]
  },
  {
   "cell_type": "code",
   "execution_count": 242,
   "id": "8f426f9e",
   "metadata": {},
   "outputs": [
    {
     "name": "stdout",
     "output_type": "stream",
     "text": [
      "              precision    recall  f1-score   support\n",
      "\n",
      "       False       0.81      0.75      0.78     11757\n",
      "        True       0.76      0.82      0.79     11711\n",
      "\n",
      "    accuracy                           0.78     23468\n",
      "   macro avg       0.78      0.78      0.78     23468\n",
      "weighted avg       0.78      0.78      0.78     23468\n",
      "\n"
     ]
    }
   ],
   "source": [
    "print(classification_report(y_test, y_pred))"
   ]
  },
  {
   "cell_type": "code",
   "execution_count": 243,
   "id": "e95f2745",
   "metadata": {},
   "outputs": [
    {
     "name": "stdout",
     "output_type": "stream",
     "text": [
      "AUC score is 0.7835184633245851\n"
     ]
    },
    {
     "data": {
      "text/plain": [
       "<sklearn.metrics._plot.roc_curve.RocCurveDisplay at 0x18e0c2d2f10>"
      ]
     },
     "execution_count": 243,
     "metadata": {},
     "output_type": "execute_result"
    },
    {
     "data": {
      "image/png": "[encoded data removed]",
      "text/plain": [
       "<Figure size 432x288 with 1 Axes>"
      ]
     },
     "metadata": {
      "needs_background": "light"
     },
     "output_type": "display_data"
    }
   ],
   "source": [
    "print('AUC score is', roc_auc_score(y_test, y_pred))\n",
    "RocCurveDisplay.from_predictions(y_test, y_pred)"
   ]
  },
  {
   "cell_type": "markdown",
   "id": "889e0a2a",
   "metadata": {},
   "source": [
    "## Support Vector Machine (with attempts at 'Grid' Search and CV)\n",
    "\n",
    "The cell below was my first attempt with too many fits to handle. Each fit takes roughly 8 min or 480 seconds. I interrupted after 10 fits."
   ]
  },
  {
   "cell_type": "code",
   "execution_count": null,
   "id": "b40ece82",
   "metadata": {
    "scrolled": true
   },
   "outputs": [
    {
     "name": "stdout",
     "output_type": "stream",
     "text": [
      "Fitting 5 folds for each of 48 candidates, totalling 240 fits\n",
      "[CV] END ....................C=0.01, degree=1, kernel=linear; total time= 7.4min\n",
      "[CV] END ....................C=0.01, degree=1, kernel=linear; total time= 6.9min\n",
      "[CV] END ....................C=0.01, degree=1, kernel=linear; total time= 6.8min\n",
      "[CV] END ....................C=0.01, degree=1, kernel=linear; total time= 7.4min\n",
      "[CV] END ....................C=0.01, degree=1, kernel=linear; total time= 7.4min\n",
      "[CV] END ......................C=0.01, degree=1, kernel=poly; total time= 7.9min\n",
      "[CV] END ......................C=0.01, degree=1, kernel=poly; total time= 8.0min\n",
      "[CV] END ......................C=0.01, degree=1, kernel=poly; total time= 8.0min\n",
      "[CV] END ......................C=0.01, degree=1, kernel=poly; total time= 8.7min\n",
      "[CV] END ......................C=0.01, degree=1, kernel=poly; total time= 8.0min\n",
      "[CV] END .......................C=0.01, degree=1, kernel=rbf; total time= 9.6min\n"
     ]
    }
   ],
   "source": [
    "# DO NOT RUN\n",
    "# from sklearn.preprocessing import StandardScaler\n",
    "# from sklearn.svm import SVC\n",
    "\n",
    "#C = [0.01,0.1,10,100] #5\n",
    "#kernel = ['linear', 'poly', 'rbf', 'sigmoid'] #4\n",
    "#degree = [1,2,3] #7\n",
    "\n",
    "#parameters = dict(C=C,kernel=kernel,degree = degree)\n",
    "\n",
    "#svc = SVC()\n",
    "\n",
    "#svc_GS = GridSearchCV(svc,param_grid=parameters,verbose = 2)\n",
    "\n",
    "#svc_GS.fit(X_train_std, y_train)"
   ]
  },
  {
   "cell_type": "markdown",
   "id": "d5348f23",
   "metadata": {},
   "source": [
    "I have to work with a smaller grid here to finish it in a reasonable time.\n",
    "\n",
    "Edit: 1 hour later with 2 fits. Stackoverflow says the bigger the C, the longer it takes to fit.\n",
    "\n",
    "I'll just work with 1 specification."
   ]
  },
  {
   "cell_type": "code",
   "execution_count": null,
   "id": "4f7a1f7e",
   "metadata": {
    "scrolled": true
   },
   "outputs": [
    {
     "name": "stdout",
     "output_type": "stream",
     "text": [
      "Fitting 5 folds for each of 4 candidates, totalling 20 fits\n",
      "[CV] END ...............................C=0.1, kernel=linear; total time=24.5min\n",
      "[CV] END ...............................C=0.1, kernel=linear; total time=25.0min\n",
      "[CV] END ...............................C=0.1, kernel=linear; total time=25.7min\n"
     ]
    }
   ],
   "source": [
    "# DO NOT RUN\n",
    "from sklearn.preprocessing import StandardScaler\n",
    "from sklearn.svm import SVC\n",
    "from sklearn.model_selection import GridSearchCV\n",
    "\n",
    "#C = [0.1,1] #2\n",
    "#kernel = ['linear','rbf'] #2\n",
    "\n",
    "#parameters = dict(C=C,\n",
    "                  kernel=kernel)\n",
    "\n",
    "#svc = SVC()\n",
    "\n",
    "#svc_GS = GridSearchCV(svc,param_grid=parameters,verbose = 2)\n",
    "\n",
    "#svc_GS.fit(X_train_std, y_train)"
   ]
  },
  {
   "cell_type": "code",
   "execution_count": 25,
   "id": "45fa1ba7",
   "metadata": {},
   "outputs": [
    {
     "name": "stdout",
     "output_type": "stream",
     "text": [
      "[LibSVM]0:13:20.829852\n"
     ]
    }
   ],
   "source": [
    "from datetime import datetime\n",
    "\n",
    "from sklearn.preprocessing import StandardScaler\n",
    "from sklearn.svm import SVC\n",
    "startTime = datetime.now()\n",
    "svc = SVC(kernel='rbf', C = 1, verbose=2)\n",
    "svc.fit(X_train_std, y_train)\n",
    "print(datetime.now() - startTime)"
   ]
  },
  {
   "cell_type": "code",
   "execution_count": 30,
   "id": "af93f50a",
   "metadata": {},
   "outputs": [
    {
     "data": {
      "text/plain": [
       "0.7678967104141811"
      ]
     },
     "execution_count": 30,
     "metadata": {},
     "output_type": "execute_result"
    }
   ],
   "source": [
    "svc.score(X_test_std,y_test)"
   ]
  },
  {
   "cell_type": "code",
   "execution_count": 31,
   "id": "eab2b7ba",
   "metadata": {},
   "outputs": [
    {
     "name": "stdout",
     "output_type": "stream",
     "text": [
      "[LibSVM]0:14:54.529587\n"
     ]
    }
   ],
   "source": [
    "from datetime import datetime\n",
    "startTime = datetime.now()\n",
    "\n",
    "svc2 = SVC(kernel='rbf', C = 0.1, verbose=2)\n",
    "svc2.fit(X_train_std, y_train)\n",
    "print(datetime.now() - startTime)\n",
    "svc2.score(X_test_std,y_test)"
   ]
  },
  {
   "cell_type": "code",
   "execution_count": 32,
   "id": "a871394f",
   "metadata": {},
   "outputs": [
    {
     "data": {
      "text/plain": [
       "0.7394324186125788"
      ]
     },
     "execution_count": 32,
     "metadata": {},
     "output_type": "execute_result"
    }
   ],
   "source": [
    "svc2.score(X_test_std,y_test)"
   ]
  },
  {
   "cell_type": "code",
   "execution_count": 34,
   "id": "4bfd65ed",
   "metadata": {},
   "outputs": [
    {
     "name": "stdout",
     "output_type": "stream",
     "text": [
      "[LibSVM]1:23:11.682045\n"
     ]
    },
    {
     "data": {
      "text/plain": [
       "0.7546020112493609"
      ]
     },
     "execution_count": 34,
     "metadata": {},
     "output_type": "execute_result"
    }
   ],
   "source": [
    "svc3 = SVC(kernel='rbf', C = 10, verbose=2)\n",
    "startTime = datetime.now()\n",
    "svc3.fit(X_train_std, y_train)\n",
    "print(datetime.now() - startTime)\n",
    "svc3.score(X_test_std,y_test)"
   ]
  },
  {
   "cell_type": "code",
   "execution_count": null,
   "id": "d9cfb022",
   "metadata": {},
   "outputs": [
    {
     "name": "stdout",
     "output_type": "stream",
     "text": [
      "[LibSVM]"
     ]
    }
   ],
   "source": [
    "svc4 = SVC(kernel='linear', C = 1, verbose=2)\n",
    "startTime = datetime.now()\n",
    "svc4.fit(X_train_std, y_train)\n",
    "print(datetime.now() - startTime)\n",
    "svc4.score(X_test_std,y_test)"
   ]
  },
  {
   "cell_type": "code",
   "execution_count": 26,
   "id": "d457a17b",
   "metadata": {},
   "outputs": [
    {
     "name": "stdout",
     "output_type": "stream",
     "text": [
      "[[8541 3216]\n",
      " [2231 9480]]\n",
      "Precision 0.747\n",
      "recall 0.809\n"
     ]
    }
   ],
   "source": [
    "from sklearn.metrics import confusion_matrix\n",
    "\n",
    "y_pred = svc.predict(X_test_std)\n",
    "cmdf = confusion_matrix(y_test, y_pred)\n",
    "tn, fp, fn, tp = cmdf.ravel()\n",
    "print(cmdf)\n",
    "precision = round(tp/(tp+fp),3)\n",
    "recall = round(tp/(tp+fn),3)\n",
    "print('Precision {}'.format(precision))\n",
    "print('recall {}'.format(recall))"
   ]
  },
  {
   "cell_type": "code",
   "execution_count": 28,
   "id": "fdc7b052",
   "metadata": {},
   "outputs": [
    {
     "name": "stdout",
     "output_type": "stream",
     "text": [
      "              precision    recall  f1-score   support\n",
      "\n",
      "       False       0.79      0.73      0.76     11757\n",
      "        True       0.75      0.81      0.78     11711\n",
      "\n",
      "    accuracy                           0.77     23468\n",
      "   macro avg       0.77      0.77      0.77     23468\n",
      "weighted avg       0.77      0.77      0.77     23468\n",
      "\n"
     ]
    }
   ],
   "source": [
    "from sklearn.metrics import classification_report\n",
    "print(classification_report(y_test, y_pred))"
   ]
  },
  {
   "cell_type": "code",
   "execution_count": 29,
   "id": "11cb5c0b",
   "metadata": {},
   "outputs": [
    {
     "name": "stdout",
     "output_type": "stream",
     "text": [
      "AUC score is 0.7679780890502578\n"
     ]
    },
    {
     "data": {
      "text/plain": [
       "<sklearn.metrics._plot.roc_curve.RocCurveDisplay at 0x20bcc409a60>"
      ]
     },
     "execution_count": 29,
     "metadata": {},
     "output_type": "execute_result"
    },
    {
     "data": {
      "image/png": "[encoded data removed]",
      "text/plain": [
       "<Figure size 432x288 with 1 Axes>"
      ]
     },
     "metadata": {
      "needs_background": "light"
     },
     "output_type": "display_data"
    }
   ],
   "source": [
    "from sklearn.metrics import roc_auc_score\n",
    "from sklearn.metrics import RocCurveDisplay\n",
    "print('AUC score is', roc_auc_score(y_test, y_pred))\n",
    "RocCurveDisplay.from_predictions(y_test, y_pred)"
   ]
  },
  {
   "cell_type": "markdown",
   "id": "0dff3da2",
   "metadata": {},
   "source": [
    "## XGBoost"
   ]
  },
  {
   "cell_type": "code",
   "execution_count": null,
   "id": "20d33382",
   "metadata": {
    "scrolled": true
   },
   "outputs": [],
   "source": [
    "from xgboost import XGBClassifier\n",
    "from sklearn.model_selection import RandomizedSearchCV, GridSearchCV\n",
    "from sklearn.metrics import roc_auc_score\n",
    "from sklearn.model_selection import StratifiedKFold\n",
    "from datetime import datetime\n",
    "\n",
    "xgb = XGBClassifier(random_state = 42,\n",
    "                   objective = 'binary:logistic',\n",
    "                   #verbosity = 2,\n",
    "                   early_stopping_rounds=10,\n",
    "                   n_jobs = 1)\n",
    "\n",
    "params = {\n",
    "        'gamma': [0, 0.25, 1.0],\n",
    "        'reg_lambda':[0,1,10],\n",
    "        'colsample_bytree': [0.6, 0.8, 1.0],\n",
    "        'max_depth': [4, 5, 6],\n",
    "        'learning_rate':[0.01,0.05,0.1]\n",
    "        }\n",
    "\n",
    "xgbgs = GridSearchCV(xgb, param_grid = params, verbose = 2, n_jobs = -1, cv = 3)\n",
    "\n",
    "\n",
    "# Here we go\n",
    "startTime = datetime.now()\n",
    "xgbgs.fit(X_train, y_train)\n",
    "print(datetime.now() - startTime) # timing ends here for \"start_time\" variable\n"
   ]
  },
  {
   "cell_type": "code",
   "execution_count": 36,
   "id": "cc89f18b",
   "metadata": {},
   "outputs": [
    {
     "data": {
      "text/plain": [
       "0.803425261302103"
      ]
     },
     "execution_count": 36,
     "metadata": {},
     "output_type": "execute_result"
    }
   ],
   "source": [
    "xgbgs.best_score_"
   ]
  },
  {
   "cell_type": "code",
   "execution_count": 37,
   "id": "379f26a2",
   "metadata": {},
   "outputs": [],
   "source": [
    "xgbb = xgbgs.best_estimator_"
   ]
  },
  {
   "cell_type": "code",
   "execution_count": 38,
   "id": "bf4881a9",
   "metadata": {},
   "outputs": [
    {
     "data": {
      "text/plain": [
       "XGBClassifier(base_score=0.5, booster='gbtree', colsample_bylevel=1,\n",
       "              colsample_bynode=1, colsample_bytree=0.8,\n",
       "              early_stopping_rounds=10, enable_categorical=False, gamma=0,\n",
       "              gpu_id=-1, importance_type=None, interaction_constraints='',\n",
       "              learning_rate=0.1, max_delta_step=0, max_depth=6,\n",
       "              min_child_weight=1, missing=nan, monotone_constraints='()',\n",
       "              n_estimators=100, n_jobs=1, num_parallel_tree=1, predictor='auto',\n",
       "              random_state=42, reg_alpha=0, reg_lambda=0, scale_pos_weight=1,\n",
       "              subsample=1, tree_method='exact', validate_parameters=1,\n",
       "              verbosity=None)"
      ]
     },
     "execution_count": 38,
     "metadata": {},
     "output_type": "execute_result"
    }
   ],
   "source": [
    "xgbb"
   ]
  },
  {
   "cell_type": "code",
   "execution_count": 39,
   "id": "ce2af456",
   "metadata": {
    "scrolled": true
   },
   "outputs": [
    {
     "data": {
      "text/plain": [
       "0.8042014658258053"
      ]
     },
     "execution_count": 39,
     "metadata": {},
     "output_type": "execute_result"
    }
   ],
   "source": [
    "xgbb.score(X_test,y_test)"
   ]
  },
  {
   "cell_type": "code",
   "execution_count": 40,
   "id": "598e4a25",
   "metadata": {},
   "outputs": [
    {
     "name": "stdout",
     "output_type": "stream",
     "text": [
      "[[ 8554  3203]\n",
      " [ 1392 10319]]\n",
      "Precision 0.763\n",
      "recall 0.881\n"
     ]
    }
   ],
   "source": [
    "from sklearn.metrics import confusion_matrix\n",
    "\n",
    "y_pred = xgbb.predict(X_test)\n",
    "cmdf = confusion_matrix(y_test, y_pred)\n",
    "tn, fp, fn, tp = cmdf.ravel()\n",
    "print(cmdf)\n",
    "precision = round(tp/(tp+fp),3)\n",
    "recall = round(tp/(tp+fn),3)\n",
    "print('Precision {}'.format(precision))\n",
    "print('recall {}'.format(recall))"
   ]
  },
  {
   "cell_type": "code",
   "execution_count": 41,
   "id": "241b1230",
   "metadata": {},
   "outputs": [
    {
     "name": "stdout",
     "output_type": "stream",
     "text": [
      "              precision    recall  f1-score   support\n",
      "\n",
      "       False       0.86      0.73      0.79     11757\n",
      "        True       0.76      0.88      0.82     11711\n",
      "\n",
      "    accuracy                           0.80     23468\n",
      "   macro avg       0.81      0.80      0.80     23468\n",
      "weighted avg       0.81      0.80      0.80     23468\n",
      "\n"
     ]
    }
   ],
   "source": [
    "from sklearn.metrics import classification_report\n",
    "print(classification_report(y_test, y_pred))"
   ]
  },
  {
   "cell_type": "code",
   "execution_count": 42,
   "id": "388499c2",
   "metadata": {},
   "outputs": [
    {
     "name": "stdout",
     "output_type": "stream",
     "text": [
      "AUC score is 0.8043519741448069\n"
     ]
    },
    {
     "data": {
      "text/plain": [
       "<sklearn.metrics._plot.roc_curve.RocCurveDisplay at 0x20980e54d00>"
      ]
     },
     "execution_count": 42,
     "metadata": {},
     "output_type": "execute_result"
    },
    {
     "data": {
      "image/png": "[encoded data removed]",
      "text/plain": [
       "<Figure size 432x288 with 1 Axes>"
      ]
     },
     "metadata": {
      "needs_background": "light"
     },
     "output_type": "display_data"
    }
   ],
   "source": [
    "from sklearn.metrics import roc_auc_score\n",
    "from sklearn.metrics import RocCurveDisplay\n",
    "print('AUC score is', roc_auc_score(y_test, y_pred))\n",
    "RocCurveDisplay.from_predictions(y_test, y_pred)"
   ]
  }
 ],
 "metadata": {
  "kernelspec": {
   "display_name": "Python 3 (ipykernel)",
   "language": "python",
   "name": "python3"
  },
  "language_info": {
   "codemirror_mode": {
    "name": "ipython",
    "version": 3
   },
   "file_extension": ".py",
   "mimetype": "text/x-python",
   "name": "python",
   "nbconvert_exporter": "python",
   "pygments_lexer": "ipython3",
   "version": "3.9.7"
  }
 },
 "nbformat": 4,
 "nbformat_minor": 5
}
